{
 "cells": [
  {
   "cell_type": "code",
   "execution_count": 304,
   "metadata": {},
   "outputs": [],
   "source": [
    "import numpy as np\n",
    "import pandas as pd\n",
    "import matplotlib.pyplot as plt\n",
    "import seaborn as sns \n",
    "import datetime as dt\n",
    "\n",
    "from sklearn.model_selection import train_test_split, GridSearchCV\n",
    "from sklearn.linear_model import LogisticRegression\n",
    "from sklearn.ensemble import RandomForestClassifier\n",
    "from sklearn.svm import SVC\n",
    "from sklearn.metrics import confusion_matrix, classification_report, accuracy_score\n",
    "import warnings\n",
    "warnings.filterwarnings(\"ignore\")"
   ]
  },
  {
   "cell_type": "code",
   "execution_count": 220,
   "metadata": {},
   "outputs": [],
   "source": [
    "results = pd.read_csv('results.csv')\n",
    "players = pd.read_csv('players.csv')"
   ]
  },
  {
   "cell_type": "code",
   "execution_count": 221,
   "metadata": {},
   "outputs": [],
   "source": [
    "pd.set_option('display.max_columns', None)"
   ]
  },
  {
   "cell_type": "markdown",
   "metadata": {},
   "source": [
    "First let us see if any of the maps are unbalanced in terms of teams gaining inhereit advantages being on the T side or the CT side. The motivation for this comes the community's \n",
    "understanding that maps like Nuke and Vertigo are unbalanced, so we will explore the statistics and see if we can find any trends."
   ]
  },
  {
   "cell_type": "code",
   "execution_count": 222,
   "metadata": {},
   "outputs": [
    {
     "data": {
      "text/html": [
       "<div>\n",
       "<style scoped>\n",
       "    .dataframe tbody tr th:only-of-type {\n",
       "        vertical-align: middle;\n",
       "    }\n",
       "\n",
       "    .dataframe tbody tr th {\n",
       "        vertical-align: top;\n",
       "    }\n",
       "\n",
       "    .dataframe thead th {\n",
       "        text-align: right;\n",
       "    }\n",
       "</style>\n",
       "<table border=\"1\" class=\"dataframe\">\n",
       "  <thead>\n",
       "    <tr style=\"text-align: right;\">\n",
       "      <th></th>\n",
       "      <th>date</th>\n",
       "      <th>team_1</th>\n",
       "      <th>team_2</th>\n",
       "      <th>_map</th>\n",
       "      <th>result_1</th>\n",
       "      <th>result_2</th>\n",
       "      <th>map_winner</th>\n",
       "      <th>starting_ct</th>\n",
       "      <th>ct_1</th>\n",
       "      <th>t_2</th>\n",
       "      <th>t_1</th>\n",
       "      <th>ct_2</th>\n",
       "      <th>event_id</th>\n",
       "      <th>match_id</th>\n",
       "      <th>rank_1</th>\n",
       "      <th>rank_2</th>\n",
       "      <th>map_wins_1</th>\n",
       "      <th>map_wins_2</th>\n",
       "      <th>match_winner</th>\n",
       "    </tr>\n",
       "  </thead>\n",
       "  <tbody>\n",
       "    <tr>\n",
       "      <th>0</th>\n",
       "      <td>2020-03-18</td>\n",
       "      <td>Recon 5</td>\n",
       "      <td>TeamOne</td>\n",
       "      <td>Dust2</td>\n",
       "      <td>0</td>\n",
       "      <td>16</td>\n",
       "      <td>2</td>\n",
       "      <td>2</td>\n",
       "      <td>0</td>\n",
       "      <td>1</td>\n",
       "      <td>0</td>\n",
       "      <td>15</td>\n",
       "      <td>5151</td>\n",
       "      <td>2340454</td>\n",
       "      <td>62</td>\n",
       "      <td>63</td>\n",
       "      <td>0</td>\n",
       "      <td>2</td>\n",
       "      <td>2</td>\n",
       "    </tr>\n",
       "    <tr>\n",
       "      <th>1</th>\n",
       "      <td>2020-03-18</td>\n",
       "      <td>Recon 5</td>\n",
       "      <td>TeamOne</td>\n",
       "      <td>Inferno</td>\n",
       "      <td>13</td>\n",
       "      <td>16</td>\n",
       "      <td>2</td>\n",
       "      <td>2</td>\n",
       "      <td>8</td>\n",
       "      <td>6</td>\n",
       "      <td>5</td>\n",
       "      <td>10</td>\n",
       "      <td>5151</td>\n",
       "      <td>2340454</td>\n",
       "      <td>62</td>\n",
       "      <td>63</td>\n",
       "      <td>0</td>\n",
       "      <td>2</td>\n",
       "      <td>2</td>\n",
       "    </tr>\n",
       "    <tr>\n",
       "      <th>2</th>\n",
       "      <td>2020-03-18</td>\n",
       "      <td>New England Whalers</td>\n",
       "      <td>Station7</td>\n",
       "      <td>Inferno</td>\n",
       "      <td>12</td>\n",
       "      <td>16</td>\n",
       "      <td>2</td>\n",
       "      <td>1</td>\n",
       "      <td>9</td>\n",
       "      <td>6</td>\n",
       "      <td>3</td>\n",
       "      <td>10</td>\n",
       "      <td>5243</td>\n",
       "      <td>2340461</td>\n",
       "      <td>140</td>\n",
       "      <td>118</td>\n",
       "      <td>12</td>\n",
       "      <td>16</td>\n",
       "      <td>2</td>\n",
       "    </tr>\n",
       "    <tr>\n",
       "      <th>3</th>\n",
       "      <td>2020-03-18</td>\n",
       "      <td>Rugratz</td>\n",
       "      <td>Bad News Bears</td>\n",
       "      <td>Inferno</td>\n",
       "      <td>7</td>\n",
       "      <td>16</td>\n",
       "      <td>2</td>\n",
       "      <td>2</td>\n",
       "      <td>0</td>\n",
       "      <td>8</td>\n",
       "      <td>7</td>\n",
       "      <td>8</td>\n",
       "      <td>5151</td>\n",
       "      <td>2340453</td>\n",
       "      <td>61</td>\n",
       "      <td>38</td>\n",
       "      <td>0</td>\n",
       "      <td>2</td>\n",
       "      <td>2</td>\n",
       "    </tr>\n",
       "    <tr>\n",
       "      <th>4</th>\n",
       "      <td>2020-03-18</td>\n",
       "      <td>Rugratz</td>\n",
       "      <td>Bad News Bears</td>\n",
       "      <td>Vertigo</td>\n",
       "      <td>8</td>\n",
       "      <td>16</td>\n",
       "      <td>2</td>\n",
       "      <td>2</td>\n",
       "      <td>4</td>\n",
       "      <td>5</td>\n",
       "      <td>4</td>\n",
       "      <td>11</td>\n",
       "      <td>5151</td>\n",
       "      <td>2340453</td>\n",
       "      <td>61</td>\n",
       "      <td>38</td>\n",
       "      <td>0</td>\n",
       "      <td>2</td>\n",
       "      <td>2</td>\n",
       "    </tr>\n",
       "  </tbody>\n",
       "</table>\n",
       "</div>"
      ],
      "text/plain": [
       "         date               team_1          team_2     _map  result_1  \\\n",
       "0  2020-03-18              Recon 5         TeamOne    Dust2         0   \n",
       "1  2020-03-18              Recon 5         TeamOne  Inferno        13   \n",
       "2  2020-03-18  New England Whalers        Station7  Inferno        12   \n",
       "3  2020-03-18              Rugratz  Bad News Bears  Inferno         7   \n",
       "4  2020-03-18              Rugratz  Bad News Bears  Vertigo         8   \n",
       "\n",
       "   result_2  map_winner  starting_ct  ct_1  t_2  t_1  ct_2  event_id  \\\n",
       "0        16           2            2     0    1    0    15      5151   \n",
       "1        16           2            2     8    6    5    10      5151   \n",
       "2        16           2            1     9    6    3    10      5243   \n",
       "3        16           2            2     0    8    7     8      5151   \n",
       "4        16           2            2     4    5    4    11      5151   \n",
       "\n",
       "   match_id  rank_1  rank_2  map_wins_1  map_wins_2  match_winner  \n",
       "0   2340454      62      63           0           2             2  \n",
       "1   2340454      62      63           0           2             2  \n",
       "2   2340461     140     118          12          16             2  \n",
       "3   2340453      61      38           0           2             2  \n",
       "4   2340453      61      38           0           2             2  "
      ]
     },
     "execution_count": 222,
     "metadata": {},
     "output_type": "execute_result"
    }
   ],
   "source": [
    "results.head()"
   ]
  },
  {
   "cell_type": "code",
   "execution_count": 223,
   "metadata": {},
   "outputs": [
    {
     "name": "stdout",
     "output_type": "stream",
     "text": [
      "<class 'pandas.core.frame.DataFrame'>\n",
      "RangeIndex: 45773 entries, 0 to 45772\n",
      "Data columns (total 19 columns):\n",
      " #   Column        Non-Null Count  Dtype \n",
      "---  ------        --------------  ----- \n",
      " 0   date          45773 non-null  object\n",
      " 1   team_1        45773 non-null  object\n",
      " 2   team_2        45773 non-null  object\n",
      " 3   _map          45773 non-null  object\n",
      " 4   result_1      45773 non-null  int64 \n",
      " 5   result_2      45773 non-null  int64 \n",
      " 6   map_winner    45773 non-null  int64 \n",
      " 7   starting_ct   45773 non-null  int64 \n",
      " 8   ct_1          45773 non-null  int64 \n",
      " 9   t_2           45773 non-null  int64 \n",
      " 10  t_1           45773 non-null  int64 \n",
      " 11  ct_2          45773 non-null  int64 \n",
      " 12  event_id      45773 non-null  int64 \n",
      " 13  match_id      45773 non-null  int64 \n",
      " 14  rank_1        45773 non-null  int64 \n",
      " 15  rank_2        45773 non-null  int64 \n",
      " 16  map_wins_1    45773 non-null  int64 \n",
      " 17  map_wins_2    45773 non-null  int64 \n",
      " 18  match_winner  45773 non-null  int64 \n",
      "dtypes: int64(15), object(4)\n",
      "memory usage: 6.6+ MB\n"
     ]
    }
   ],
   "source": [
    "results.info()"
   ]
  },
  {
   "cell_type": "code",
   "execution_count": 224,
   "metadata": {},
   "outputs": [],
   "source": [
    "results.rename(columns={'result_1': 'score_1', 'result_2': 'score_2', \n",
    "                       'ct_1': 'ct_score_1', 'ct_2': 'ct_score_2', 't_1': 't_score_1',\n",
    "                       't_2': 't_score_2'}, inplace=True)\n",
    "\n",
    "results['date'] = pd.to_datetime(results['date'])\n",
    "results['date']=results['date'].map(dt.datetime.toordinal)"
   ]
  },
  {
   "cell_type": "code",
   "execution_count": 225,
   "metadata": {},
   "outputs": [],
   "source": [
    "results.drop(['map_wins_1', 'map_wins_2', 'rank_1', 'rank_2'], axis=1, inplace=True)"
   ]
  },
  {
   "cell_type": "code",
   "execution_count": 226,
   "metadata": {},
   "outputs": [
    {
     "data": {
      "text/html": [
       "<div>\n",
       "<style scoped>\n",
       "    .dataframe tbody tr th:only-of-type {\n",
       "        vertical-align: middle;\n",
       "    }\n",
       "\n",
       "    .dataframe tbody tr th {\n",
       "        vertical-align: top;\n",
       "    }\n",
       "\n",
       "    .dataframe thead th {\n",
       "        text-align: right;\n",
       "    }\n",
       "</style>\n",
       "<table border=\"1\" class=\"dataframe\">\n",
       "  <thead>\n",
       "    <tr style=\"text-align: right;\">\n",
       "      <th></th>\n",
       "      <th>date</th>\n",
       "      <th>team_1</th>\n",
       "      <th>team_2</th>\n",
       "      <th>_map</th>\n",
       "      <th>score_1</th>\n",
       "      <th>score_2</th>\n",
       "      <th>map_winner</th>\n",
       "      <th>starting_ct</th>\n",
       "      <th>ct_score_1</th>\n",
       "      <th>t_score_2</th>\n",
       "      <th>t_score_1</th>\n",
       "      <th>ct_score_2</th>\n",
       "      <th>event_id</th>\n",
       "      <th>match_id</th>\n",
       "      <th>match_winner</th>\n",
       "    </tr>\n",
       "  </thead>\n",
       "  <tbody>\n",
       "    <tr>\n",
       "      <th>0</th>\n",
       "      <td>737502</td>\n",
       "      <td>Recon 5</td>\n",
       "      <td>TeamOne</td>\n",
       "      <td>Dust2</td>\n",
       "      <td>0</td>\n",
       "      <td>16</td>\n",
       "      <td>2</td>\n",
       "      <td>2</td>\n",
       "      <td>0</td>\n",
       "      <td>1</td>\n",
       "      <td>0</td>\n",
       "      <td>15</td>\n",
       "      <td>5151</td>\n",
       "      <td>2340454</td>\n",
       "      <td>2</td>\n",
       "    </tr>\n",
       "    <tr>\n",
       "      <th>1</th>\n",
       "      <td>737502</td>\n",
       "      <td>Recon 5</td>\n",
       "      <td>TeamOne</td>\n",
       "      <td>Inferno</td>\n",
       "      <td>13</td>\n",
       "      <td>16</td>\n",
       "      <td>2</td>\n",
       "      <td>2</td>\n",
       "      <td>8</td>\n",
       "      <td>6</td>\n",
       "      <td>5</td>\n",
       "      <td>10</td>\n",
       "      <td>5151</td>\n",
       "      <td>2340454</td>\n",
       "      <td>2</td>\n",
       "    </tr>\n",
       "    <tr>\n",
       "      <th>2</th>\n",
       "      <td>737502</td>\n",
       "      <td>New England Whalers</td>\n",
       "      <td>Station7</td>\n",
       "      <td>Inferno</td>\n",
       "      <td>12</td>\n",
       "      <td>16</td>\n",
       "      <td>2</td>\n",
       "      <td>1</td>\n",
       "      <td>9</td>\n",
       "      <td>6</td>\n",
       "      <td>3</td>\n",
       "      <td>10</td>\n",
       "      <td>5243</td>\n",
       "      <td>2340461</td>\n",
       "      <td>2</td>\n",
       "    </tr>\n",
       "    <tr>\n",
       "      <th>3</th>\n",
       "      <td>737502</td>\n",
       "      <td>Rugratz</td>\n",
       "      <td>Bad News Bears</td>\n",
       "      <td>Inferno</td>\n",
       "      <td>7</td>\n",
       "      <td>16</td>\n",
       "      <td>2</td>\n",
       "      <td>2</td>\n",
       "      <td>0</td>\n",
       "      <td>8</td>\n",
       "      <td>7</td>\n",
       "      <td>8</td>\n",
       "      <td>5151</td>\n",
       "      <td>2340453</td>\n",
       "      <td>2</td>\n",
       "    </tr>\n",
       "    <tr>\n",
       "      <th>4</th>\n",
       "      <td>737502</td>\n",
       "      <td>Rugratz</td>\n",
       "      <td>Bad News Bears</td>\n",
       "      <td>Vertigo</td>\n",
       "      <td>8</td>\n",
       "      <td>16</td>\n",
       "      <td>2</td>\n",
       "      <td>2</td>\n",
       "      <td>4</td>\n",
       "      <td>5</td>\n",
       "      <td>4</td>\n",
       "      <td>11</td>\n",
       "      <td>5151</td>\n",
       "      <td>2340453</td>\n",
       "      <td>2</td>\n",
       "    </tr>\n",
       "  </tbody>\n",
       "</table>\n",
       "</div>"
      ],
      "text/plain": [
       "     date               team_1          team_2     _map  score_1  score_2  \\\n",
       "0  737502              Recon 5         TeamOne    Dust2        0       16   \n",
       "1  737502              Recon 5         TeamOne  Inferno       13       16   \n",
       "2  737502  New England Whalers        Station7  Inferno       12       16   \n",
       "3  737502              Rugratz  Bad News Bears  Inferno        7       16   \n",
       "4  737502              Rugratz  Bad News Bears  Vertigo        8       16   \n",
       "\n",
       "   map_winner  starting_ct  ct_score_1  t_score_2  t_score_1  ct_score_2  \\\n",
       "0           2            2           0          1          0          15   \n",
       "1           2            2           8          6          5          10   \n",
       "2           2            1           9          6          3          10   \n",
       "3           2            2           0          8          7           8   \n",
       "4           2            2           4          5          4          11   \n",
       "\n",
       "   event_id  match_id  match_winner  \n",
       "0      5151   2340454             2  \n",
       "1      5151   2340454             2  \n",
       "2      5243   2340461             2  \n",
       "3      5151   2340453             2  \n",
       "4      5151   2340453             2  "
      ]
     },
     "execution_count": 226,
     "metadata": {},
     "output_type": "execute_result"
    }
   ],
   "source": [
    "results.head()"
   ]
  },
  {
   "cell_type": "code",
   "execution_count": 227,
   "metadata": {},
   "outputs": [
    {
     "data": {
      "text/plain": [
       "Mirage         9021\n",
       "Inferno        7485\n",
       "Train          6566\n",
       "Overpass       5625\n",
       "Cache          4613\n",
       "Nuke           4206\n",
       "Dust2          4114\n",
       "Cobblestone    3513\n",
       "Vertigo         609\n",
       "Default          21\n",
       "Name: _map, dtype: int64"
      ]
     },
     "execution_count": 227,
     "metadata": {},
     "output_type": "execute_result"
    }
   ],
   "source": [
    "results['_map'].value_counts()"
   ]
  },
  {
   "cell_type": "code",
   "execution_count": 228,
   "metadata": {},
   "outputs": [],
   "source": [
    "results = results.drop(results[results['_map'] == 'Default'].index)"
   ]
  },
  {
   "cell_type": "code",
   "execution_count": 229,
   "metadata": {},
   "outputs": [],
   "source": [
    "mirage_df = results[results['_map'] == 'Mirage']"
   ]
  },
  {
   "cell_type": "code",
   "execution_count": 230,
   "metadata": {},
   "outputs": [
    {
     "data": {
      "text/plain": [
       "<AxesSubplot:xlabel='t_score_2', ylabel='count'>"
      ]
     },
     "execution_count": 230,
     "metadata": {},
     "output_type": "execute_result"
    },
    {
     "data": {
      "image/png": "[encoded data removed]",
      "text/plain": [
       "<Figure size 864x576 with 4 Axes>"
      ]
     },
     "metadata": {},
     "output_type": "display_data"
    }
   ],
   "source": [
    "sns.set_style('darkgrid')\n",
    "f, ax = plt.subplots(2,2, figsize=(12,8))\n",
    "sns.countplot(x='ct_score_1', data=mirage_df, ax=ax[0,0])\n",
    "sns.countplot(x='ct_score_2', data=mirage_df, ax=ax[0,1])\n",
    "sns.countplot(x='t_score_1', data=mirage_df, ax=ax[1,0])\n",
    "sns.countplot(x='t_score_2', data=mirage_df, ax=ax[1,1])"
   ]
  },
  {
   "cell_type": "code",
   "execution_count": 231,
   "metadata": {},
   "outputs": [],
   "source": [
    "def map_score_plots(_map):\n",
    "    df = results[results['_map'] == _map]\n",
    "    f, ax = plt.subplots(2,2, figsize=(12,8))\n",
    "    sns.countplot(x='ct_score_1', data=df, ax=ax[0,0])\n",
    "    sns.countplot(x='t_score_1', data=df, ax=ax[0,1])\n",
    "    sns.countplot(x='ct_score_2', data=df, ax=ax[1,0])\n",
    "    sns.countplot(x='t_score_2', data=df, ax=ax[1,1])"
   ]
  },
  {
   "cell_type": "code",
   "execution_count": 232,
   "metadata": {},
   "outputs": [
    {
     "data": {
      "image/png": "[encoded data removed]",
      "text/plain": [
       "<Figure size 864x576 with 4 Axes>"
      ]
     },
     "metadata": {},
     "output_type": "display_data"
    }
   ],
   "source": [
    "map_score_plots('Nuke')"
   ]
  },
  {
   "cell_type": "code",
   "execution_count": 233,
   "metadata": {},
   "outputs": [
    {
     "data": {
      "text/plain": [
       "0    25320\n",
       "1    20432\n",
       "Name: side_won_1, dtype: int64"
      ]
     },
     "execution_count": 233,
     "metadata": {},
     "output_type": "execute_result"
    }
   ],
   "source": [
    "# 1 means Terrorists won the side and 0 means Counter-Terrorists won \n",
    "def side_won_1(df):\n",
    "    if (df['ct_score_1'] - df['t_score_2']) < 0:\n",
    "        return 1\n",
    "    else:\n",
    "        return 0\n",
    "    \n",
    "results['side_won_1'] = results.apply(side_won_1, axis=1)\n",
    "results['side_won_1'].value_counts() "
   ]
  },
  {
   "cell_type": "code",
   "execution_count": 234,
   "metadata": {},
   "outputs": [
    {
     "data": {
      "text/plain": [
       "0    22883\n",
       "1    22869\n",
       "Name: side_won_2, dtype: int64"
      ]
     },
     "execution_count": 234,
     "metadata": {},
     "output_type": "execute_result"
    }
   ],
   "source": [
    "def side_won_2(df):\n",
    "    if (df['ct_score_2'] - df['t_score_1']) < 0:\n",
    "        return 1\n",
    "    else:\n",
    "        return 0\n",
    "    \n",
    "results['side_won_2'] = results.apply(side_won_2, axis=1)\n",
    "results['side_won_2'].value_counts() "
   ]
  },
  {
   "cell_type": "code",
   "execution_count": 235,
   "metadata": {},
   "outputs": [
    {
     "data": {
      "text/html": [
       "<div>\n",
       "<style scoped>\n",
       "    .dataframe tbody tr th:only-of-type {\n",
       "        vertical-align: middle;\n",
       "    }\n",
       "\n",
       "    .dataframe tbody tr th {\n",
       "        vertical-align: top;\n",
       "    }\n",
       "\n",
       "    .dataframe thead th {\n",
       "        text-align: right;\n",
       "    }\n",
       "</style>\n",
       "<table border=\"1\" class=\"dataframe\">\n",
       "  <thead>\n",
       "    <tr style=\"text-align: right;\">\n",
       "      <th></th>\n",
       "      <th>date</th>\n",
       "      <th>team_1</th>\n",
       "      <th>team_2</th>\n",
       "      <th>_map</th>\n",
       "      <th>score_1</th>\n",
       "      <th>score_2</th>\n",
       "      <th>map_winner</th>\n",
       "      <th>starting_ct</th>\n",
       "      <th>ct_score_1</th>\n",
       "      <th>t_score_2</th>\n",
       "      <th>t_score_1</th>\n",
       "      <th>ct_score_2</th>\n",
       "      <th>event_id</th>\n",
       "      <th>match_id</th>\n",
       "      <th>match_winner</th>\n",
       "      <th>side_won_1</th>\n",
       "      <th>side_won_2</th>\n",
       "    </tr>\n",
       "  </thead>\n",
       "  <tbody>\n",
       "    <tr>\n",
       "      <th>0</th>\n",
       "      <td>737502</td>\n",
       "      <td>Recon 5</td>\n",
       "      <td>TeamOne</td>\n",
       "      <td>Dust2</td>\n",
       "      <td>0</td>\n",
       "      <td>16</td>\n",
       "      <td>2</td>\n",
       "      <td>2</td>\n",
       "      <td>0</td>\n",
       "      <td>1</td>\n",
       "      <td>0</td>\n",
       "      <td>15</td>\n",
       "      <td>5151</td>\n",
       "      <td>2340454</td>\n",
       "      <td>2</td>\n",
       "      <td>1</td>\n",
       "      <td>0</td>\n",
       "    </tr>\n",
       "    <tr>\n",
       "      <th>1</th>\n",
       "      <td>737502</td>\n",
       "      <td>Recon 5</td>\n",
       "      <td>TeamOne</td>\n",
       "      <td>Inferno</td>\n",
       "      <td>13</td>\n",
       "      <td>16</td>\n",
       "      <td>2</td>\n",
       "      <td>2</td>\n",
       "      <td>8</td>\n",
       "      <td>6</td>\n",
       "      <td>5</td>\n",
       "      <td>10</td>\n",
       "      <td>5151</td>\n",
       "      <td>2340454</td>\n",
       "      <td>2</td>\n",
       "      <td>0</td>\n",
       "      <td>0</td>\n",
       "    </tr>\n",
       "    <tr>\n",
       "      <th>2</th>\n",
       "      <td>737502</td>\n",
       "      <td>New England Whalers</td>\n",
       "      <td>Station7</td>\n",
       "      <td>Inferno</td>\n",
       "      <td>12</td>\n",
       "      <td>16</td>\n",
       "      <td>2</td>\n",
       "      <td>1</td>\n",
       "      <td>9</td>\n",
       "      <td>6</td>\n",
       "      <td>3</td>\n",
       "      <td>10</td>\n",
       "      <td>5243</td>\n",
       "      <td>2340461</td>\n",
       "      <td>2</td>\n",
       "      <td>0</td>\n",
       "      <td>0</td>\n",
       "    </tr>\n",
       "    <tr>\n",
       "      <th>3</th>\n",
       "      <td>737502</td>\n",
       "      <td>Rugratz</td>\n",
       "      <td>Bad News Bears</td>\n",
       "      <td>Inferno</td>\n",
       "      <td>7</td>\n",
       "      <td>16</td>\n",
       "      <td>2</td>\n",
       "      <td>2</td>\n",
       "      <td>0</td>\n",
       "      <td>8</td>\n",
       "      <td>7</td>\n",
       "      <td>8</td>\n",
       "      <td>5151</td>\n",
       "      <td>2340453</td>\n",
       "      <td>2</td>\n",
       "      <td>1</td>\n",
       "      <td>0</td>\n",
       "    </tr>\n",
       "    <tr>\n",
       "      <th>4</th>\n",
       "      <td>737502</td>\n",
       "      <td>Rugratz</td>\n",
       "      <td>Bad News Bears</td>\n",
       "      <td>Vertigo</td>\n",
       "      <td>8</td>\n",
       "      <td>16</td>\n",
       "      <td>2</td>\n",
       "      <td>2</td>\n",
       "      <td>4</td>\n",
       "      <td>5</td>\n",
       "      <td>4</td>\n",
       "      <td>11</td>\n",
       "      <td>5151</td>\n",
       "      <td>2340453</td>\n",
       "      <td>2</td>\n",
       "      <td>1</td>\n",
       "      <td>0</td>\n",
       "    </tr>\n",
       "  </tbody>\n",
       "</table>\n",
       "</div>"
      ],
      "text/plain": [
       "     date               team_1          team_2     _map  score_1  score_2  \\\n",
       "0  737502              Recon 5         TeamOne    Dust2        0       16   \n",
       "1  737502              Recon 5         TeamOne  Inferno       13       16   \n",
       "2  737502  New England Whalers        Station7  Inferno       12       16   \n",
       "3  737502              Rugratz  Bad News Bears  Inferno        7       16   \n",
       "4  737502              Rugratz  Bad News Bears  Vertigo        8       16   \n",
       "\n",
       "   map_winner  starting_ct  ct_score_1  t_score_2  t_score_1  ct_score_2  \\\n",
       "0           2            2           0          1          0          15   \n",
       "1           2            2           8          6          5          10   \n",
       "2           2            1           9          6          3          10   \n",
       "3           2            2           0          8          7           8   \n",
       "4           2            2           4          5          4          11   \n",
       "\n",
       "   event_id  match_id  match_winner  side_won_1  side_won_2  \n",
       "0      5151   2340454             2           1           0  \n",
       "1      5151   2340454             2           0           0  \n",
       "2      5243   2340461             2           0           0  \n",
       "3      5151   2340453             2           1           0  \n",
       "4      5151   2340453             2           1           0  "
      ]
     },
     "execution_count": 235,
     "metadata": {},
     "output_type": "execute_result"
    }
   ],
   "source": [
    "results.head()"
   ]
  },
  {
   "cell_type": "code",
   "execution_count": 236,
   "metadata": {},
   "outputs": [
    {
     "data": {
      "text/html": [
       "<div>\n",
       "<style scoped>\n",
       "    .dataframe tbody tr th:only-of-type {\n",
       "        vertical-align: middle;\n",
       "    }\n",
       "\n",
       "    .dataframe tbody tr th {\n",
       "        vertical-align: top;\n",
       "    }\n",
       "\n",
       "    .dataframe thead th {\n",
       "        text-align: right;\n",
       "    }\n",
       "</style>\n",
       "<table border=\"1\" class=\"dataframe\">\n",
       "  <thead>\n",
       "    <tr style=\"text-align: right;\">\n",
       "      <th></th>\n",
       "      <th>Side Win %</th>\n",
       "    </tr>\n",
       "  </thead>\n",
       "  <tbody>\n",
       "    <tr>\n",
       "      <th>CT</th>\n",
       "      <td>59.85</td>\n",
       "    </tr>\n",
       "    <tr>\n",
       "      <th>T</th>\n",
       "      <td>40.15</td>\n",
       "    </tr>\n",
       "  </tbody>\n",
       "</table>\n",
       "</div>"
      ],
      "text/plain": [
       "    Side Win %\n",
       "CT       59.85\n",
       "T        40.15"
      ]
     },
     "execution_count": 236,
     "metadata": {},
     "output_type": "execute_result"
    }
   ],
   "source": [
    "# ct v t side winrates\n",
    "# Let's do the side winrates for Nuke\n",
    "nuke_df = results[results['_map'] == 'Nuke']\n",
    "t_pct = np.round(100 * ((nuke_df['side_won_1'].sum() + nuke_df['side_won_2'].sum())/(nuke_df.shape[0] * 2)), 2)\n",
    "ct_pct = 100 - t_pct\n",
    "pd.DataFrame([ct_pct, t_pct], index=['CT', 'T'], columns=['Side Win %'])"
   ]
  },
  {
   "cell_type": "code",
   "execution_count": 237,
   "metadata": {},
   "outputs": [
    {
     "data": {
      "text/html": [
       "<div>\n",
       "<style scoped>\n",
       "    .dataframe tbody tr th:only-of-type {\n",
       "        vertical-align: middle;\n",
       "    }\n",
       "\n",
       "    .dataframe tbody tr th {\n",
       "        vertical-align: top;\n",
       "    }\n",
       "\n",
       "    .dataframe thead th {\n",
       "        text-align: right;\n",
       "    }\n",
       "</style>\n",
       "<table border=\"1\" class=\"dataframe\">\n",
       "  <thead>\n",
       "    <tr style=\"text-align: right;\">\n",
       "      <th></th>\n",
       "      <th></th>\n",
       "      <th>Side Win %</th>\n",
       "    </tr>\n",
       "  </thead>\n",
       "  <tbody>\n",
       "    <tr>\n",
       "      <th rowspan=\"2\" valign=\"top\">Mirage</th>\n",
       "      <th>CT</th>\n",
       "      <td>53.85</td>\n",
       "    </tr>\n",
       "    <tr>\n",
       "      <th>T</th>\n",
       "      <td>46.15</td>\n",
       "    </tr>\n",
       "    <tr>\n",
       "      <th rowspan=\"2\" valign=\"top\">Inferno</th>\n",
       "      <th>CT</th>\n",
       "      <td>49.00</td>\n",
       "    </tr>\n",
       "    <tr>\n",
       "      <th>T</th>\n",
       "      <td>51.00</td>\n",
       "    </tr>\n",
       "    <tr>\n",
       "      <th rowspan=\"2\" valign=\"top\">Train</th>\n",
       "      <th>CT</th>\n",
       "      <td>58.22</td>\n",
       "    </tr>\n",
       "    <tr>\n",
       "      <th>T</th>\n",
       "      <td>41.78</td>\n",
       "    </tr>\n",
       "    <tr>\n",
       "      <th rowspan=\"2\" valign=\"top\">Overpass</th>\n",
       "      <th>CT</th>\n",
       "      <td>56.04</td>\n",
       "    </tr>\n",
       "    <tr>\n",
       "      <th>T</th>\n",
       "      <td>43.96</td>\n",
       "    </tr>\n",
       "    <tr>\n",
       "      <th rowspan=\"2\" valign=\"top\">Nuke</th>\n",
       "      <th>CT</th>\n",
       "      <td>59.85</td>\n",
       "    </tr>\n",
       "    <tr>\n",
       "      <th>T</th>\n",
       "      <td>40.15</td>\n",
       "    </tr>\n",
       "    <tr>\n",
       "      <th rowspan=\"2\" valign=\"top\">Dust2</th>\n",
       "      <th>CT</th>\n",
       "      <td>47.78</td>\n",
       "    </tr>\n",
       "    <tr>\n",
       "      <th>T</th>\n",
       "      <td>52.22</td>\n",
       "    </tr>\n",
       "    <tr>\n",
       "      <th rowspan=\"2\" valign=\"top\">Cache</th>\n",
       "      <th>CT</th>\n",
       "      <td>46.24</td>\n",
       "    </tr>\n",
       "    <tr>\n",
       "      <th>T</th>\n",
       "      <td>53.76</td>\n",
       "    </tr>\n",
       "    <tr>\n",
       "      <th rowspan=\"2\" valign=\"top\">Cobblestone</th>\n",
       "      <th>CT</th>\n",
       "      <td>48.38</td>\n",
       "    </tr>\n",
       "    <tr>\n",
       "      <th>T</th>\n",
       "      <td>51.62</td>\n",
       "    </tr>\n",
       "    <tr>\n",
       "      <th rowspan=\"2\" valign=\"top\">Vertigo</th>\n",
       "      <th>CT</th>\n",
       "      <td>46.88</td>\n",
       "    </tr>\n",
       "    <tr>\n",
       "      <th>T</th>\n",
       "      <td>53.12</td>\n",
       "    </tr>\n",
       "  </tbody>\n",
       "</table>\n",
       "</div>"
      ],
      "text/plain": [
       "                Side Win %\n",
       "Mirage      CT       53.85\n",
       "            T        46.15\n",
       "Inferno     CT       49.00\n",
       "            T        51.00\n",
       "Train       CT       58.22\n",
       "            T        41.78\n",
       "Overpass    CT       56.04\n",
       "            T        43.96\n",
       "Nuke        CT       59.85\n",
       "            T        40.15\n",
       "Dust2       CT       47.78\n",
       "            T        52.22\n",
       "Cache       CT       46.24\n",
       "            T        53.76\n",
       "Cobblestone CT       48.38\n",
       "            T        51.62\n",
       "Vertigo     CT       46.88\n",
       "            T        53.12"
      ]
     },
     "execution_count": 237,
     "metadata": {},
     "output_type": "execute_result"
    }
   ],
   "source": [
    "pct_data = []\n",
    "maps = ['Mirage', 'Inferno', 'Train', 'Overpass', 'Nuke', 'Dust2', 'Cache', 'Cobblestone', 'Vertigo']\n",
    "for m in maps:\n",
    "    df = results[results['_map'] == m]\n",
    "    t_pct = np.round(100 * ((df['side_won_1'].sum() + df['side_won_2'].sum())/(df.shape[0] * 2)), 2)\n",
    "    ct_pct = 100 - t_pct\n",
    "    pct_data.append(ct_pct)\n",
    "    pct_data.append(t_pct)\n",
    "    \n",
    "outside = ['Mirage', 'Mirage', 'Inferno', 'Inferno', 'Train', 'Train', 'Overpass', 'Overpass', 'Nuke', 'Nuke', 'Dust2', 'Dust2', 'Cache', 'Cache', 'Cobblestone', 'Cobblestone', 'Vertigo', 'Vertigo']\n",
    "inside = ['CT', 'T', 'CT', 'T', 'CT', 'T', 'CT', 'T', 'CT', 'T', 'CT', 'T', 'CT', 'T', 'CT', 'T', 'CT', 'T']\n",
    "hier_index = list(zip(outside,inside))\n",
    "hier_index = pd.MultiIndex.from_tuples(hier_index)\n",
    "\n",
    "pd.DataFrame(pct_data, index=hier_index, columns=['Side Win %'])"
   ]
  },
  {
   "cell_type": "markdown",
   "metadata": {},
   "source": [
    "From this table we can see most maps do have a CT or T advantage. The maps that have a great disparity between the win percentages are: Train, Nuke, and Overpass, all of which are CT sided. Looking at Vertigo, while the T side does have a higher win percentage than the CT side, the difference is not as large to conclude that the map has a T side advantage. This may be because of the fact that Vertigo is a much newer map and lacks the same amount of data that the other maps have."
   ]
  },
  {
   "cell_type": "markdown",
   "metadata": {},
   "source": [
    "Final note on this question: The side win percentages are calculated based on both sides played, this may have a flaw given that in CS:GO one half is always played in full while the other side often does not play out all 15 rounds. This is one thing to consider in future anaylsis, perhaps to account for this we can weight the side that is played in full higher than the other.  "
   ]
  },
  {
   "cell_type": "markdown",
   "metadata": {},
   "source": [
    "============================================================================="
   ]
  },
  {
   "cell_type": "markdown",
   "metadata": {},
   "source": [
    "## Find out Astralis' win rate on each map"
   ]
  },
  {
   "cell_type": "code",
   "execution_count": 238,
   "metadata": {},
   "outputs": [
    {
     "data": {
      "text/html": [
       "<div>\n",
       "<style scoped>\n",
       "    .dataframe tbody tr th:only-of-type {\n",
       "        vertical-align: middle;\n",
       "    }\n",
       "\n",
       "    .dataframe tbody tr th {\n",
       "        vertical-align: top;\n",
       "    }\n",
       "\n",
       "    .dataframe thead th {\n",
       "        text-align: right;\n",
       "    }\n",
       "</style>\n",
       "<table border=\"1\" class=\"dataframe\">\n",
       "  <thead>\n",
       "    <tr style=\"text-align: right;\">\n",
       "      <th></th>\n",
       "      <th>date</th>\n",
       "      <th>team_1</th>\n",
       "      <th>team_2</th>\n",
       "      <th>_map</th>\n",
       "      <th>score_1</th>\n",
       "      <th>score_2</th>\n",
       "      <th>map_winner</th>\n",
       "      <th>starting_ct</th>\n",
       "      <th>ct_score_1</th>\n",
       "      <th>t_score_2</th>\n",
       "      <th>t_score_1</th>\n",
       "      <th>ct_score_2</th>\n",
       "      <th>event_id</th>\n",
       "      <th>match_id</th>\n",
       "      <th>match_winner</th>\n",
       "      <th>side_won_1</th>\n",
       "      <th>side_won_2</th>\n",
       "    </tr>\n",
       "  </thead>\n",
       "  <tbody>\n",
       "    <tr>\n",
       "      <th>47</th>\n",
       "      <td>737500</td>\n",
       "      <td>Astralis</td>\n",
       "      <td>NiP</td>\n",
       "      <td>Overpass</td>\n",
       "      <td>8</td>\n",
       "      <td>16</td>\n",
       "      <td>2</td>\n",
       "      <td>2</td>\n",
       "      <td>4</td>\n",
       "      <td>5</td>\n",
       "      <td>4</td>\n",
       "      <td>11</td>\n",
       "      <td>5226</td>\n",
       "      <td>2340065</td>\n",
       "      <td>2</td>\n",
       "      <td>1</td>\n",
       "      <td>0</td>\n",
       "    </tr>\n",
       "    <tr>\n",
       "      <th>49</th>\n",
       "      <td>737500</td>\n",
       "      <td>Astralis</td>\n",
       "      <td>NiP</td>\n",
       "      <td>Vertigo</td>\n",
       "      <td>6</td>\n",
       "      <td>16</td>\n",
       "      <td>2</td>\n",
       "      <td>1</td>\n",
       "      <td>3</td>\n",
       "      <td>12</td>\n",
       "      <td>3</td>\n",
       "      <td>4</td>\n",
       "      <td>5226</td>\n",
       "      <td>2340065</td>\n",
       "      <td>2</td>\n",
       "      <td>1</td>\n",
       "      <td>0</td>\n",
       "    </tr>\n",
       "    <tr>\n",
       "      <th>676</th>\n",
       "      <td>737484</td>\n",
       "      <td>Natus Vincere</td>\n",
       "      <td>Astralis</td>\n",
       "      <td>Nuke</td>\n",
       "      <td>16</td>\n",
       "      <td>5</td>\n",
       "      <td>1</td>\n",
       "      <td>1</td>\n",
       "      <td>13</td>\n",
       "      <td>2</td>\n",
       "      <td>3</td>\n",
       "      <td>3</td>\n",
       "      <td>4901</td>\n",
       "      <td>2339401</td>\n",
       "      <td>1</td>\n",
       "      <td>0</td>\n",
       "      <td>0</td>\n",
       "    </tr>\n",
       "    <tr>\n",
       "      <th>677</th>\n",
       "      <td>737484</td>\n",
       "      <td>Natus Vincere</td>\n",
       "      <td>Astralis</td>\n",
       "      <td>Dust2</td>\n",
       "      <td>16</td>\n",
       "      <td>5</td>\n",
       "      <td>1</td>\n",
       "      <td>2</td>\n",
       "      <td>2</td>\n",
       "      <td>4</td>\n",
       "      <td>14</td>\n",
       "      <td>1</td>\n",
       "      <td>4901</td>\n",
       "      <td>2339401</td>\n",
       "      <td>1</td>\n",
       "      <td>1</td>\n",
       "      <td>1</td>\n",
       "    </tr>\n",
       "    <tr>\n",
       "      <th>713</th>\n",
       "      <td>737482</td>\n",
       "      <td>Astralis</td>\n",
       "      <td>fnatic</td>\n",
       "      <td>Vertigo</td>\n",
       "      <td>16</td>\n",
       "      <td>8</td>\n",
       "      <td>1</td>\n",
       "      <td>2</td>\n",
       "      <td>7</td>\n",
       "      <td>2</td>\n",
       "      <td>9</td>\n",
       "      <td>6</td>\n",
       "      <td>4901</td>\n",
       "      <td>2339394</td>\n",
       "      <td>1</td>\n",
       "      <td>0</td>\n",
       "      <td>1</td>\n",
       "    </tr>\n",
       "  </tbody>\n",
       "</table>\n",
       "</div>"
      ],
      "text/plain": [
       "       date         team_1    team_2      _map  score_1  score_2  map_winner  \\\n",
       "47   737500       Astralis       NiP  Overpass        8       16           2   \n",
       "49   737500       Astralis       NiP   Vertigo        6       16           2   \n",
       "676  737484  Natus Vincere  Astralis      Nuke       16        5           1   \n",
       "677  737484  Natus Vincere  Astralis     Dust2       16        5           1   \n",
       "713  737482       Astralis    fnatic   Vertigo       16        8           1   \n",
       "\n",
       "     starting_ct  ct_score_1  t_score_2  t_score_1  ct_score_2  event_id  \\\n",
       "47             2           4          5          4          11      5226   \n",
       "49             1           3         12          3           4      5226   \n",
       "676            1          13          2          3           3      4901   \n",
       "677            2           2          4         14           1      4901   \n",
       "713            2           7          2          9           6      4901   \n",
       "\n",
       "     match_id  match_winner  side_won_1  side_won_2  \n",
       "47    2340065             2           1           0  \n",
       "49    2340065             2           1           0  \n",
       "676   2339401             1           0           0  \n",
       "677   2339401             1           1           1  \n",
       "713   2339394             1           0           1  "
      ]
     },
     "execution_count": 238,
     "metadata": {},
     "output_type": "execute_result"
    }
   ],
   "source": [
    "results[(results['team_1'] == 'Astralis') | (results['team_2'] == 'Astralis')].head()\n",
    "# Astralis have played 872 maps between 2015-2020"
   ]
  },
  {
   "cell_type": "code",
   "execution_count": 239,
   "metadata": {},
   "outputs": [],
   "source": [
    "astralis_results = results[(results['team_1'] == 'Astralis') | (results['team_2'] == 'Astralis')]"
   ]
  },
  {
   "cell_type": "code",
   "execution_count": 240,
   "metadata": {},
   "outputs": [
    {
     "data": {
      "text/plain": [
       "Inferno        173\n",
       "Overpass       153\n",
       "Train          131\n",
       "Mirage         129\n",
       "Nuke           110\n",
       "Dust2           99\n",
       "Cache           54\n",
       "Vertigo         14\n",
       "Cobblestone      9\n",
       "Name: _map, dtype: int64"
      ]
     },
     "execution_count": 240,
     "metadata": {},
     "output_type": "execute_result"
    }
   ],
   "source": [
    "astralis_results['_map'].value_counts()"
   ]
  },
  {
   "cell_type": "code",
   "execution_count": 241,
   "metadata": {},
   "outputs": [],
   "source": [
    "def win_rate_per_map(team: str):\n",
    "    assert (team in results['team_1'].unique() or team in results['team_2'].unique())\n",
    "    team_df = results[(results['team_1'] == team) | (results['team_2'] == team)]\n",
    "    \n",
    "    win_count = {'Inferno': 0, 'Overpass': 0, 'Train': 0, 'Mirage': 0, 'Nuke': 0, 'Dust2': 0, 'Cache': 0,\n",
    "            'Vertigo': 0, 'Cobblestone': 0}\n",
    "    map_count = {'Inferno': 0, 'Overpass': 0, 'Train': 0, 'Mirage': 0, 'Nuke': 0, 'Dust2': 0, 'Cache': 0,\n",
    "            'Vertigo': 0, 'Cobblestone': 0}\n",
    "    maps_played = 0\n",
    "    \n",
    "    for index, row in team_df.iterrows():\n",
    "        if row['team_1'] == team:\n",
    "            team_df = 1\n",
    "        else:\n",
    "            team_df = 2\n",
    "        current_map = row['_map']\n",
    "        if row['map_winner'] == team_df:\n",
    "            win_count[current_map] += 1\n",
    "        maps_played += 1\n",
    "        map_count[current_map] += 1\n",
    "    \n",
    "    map_winrate = {key: (100*np.round(value/map_count[key], 4)) for key, value in win_count.items()}\n",
    "    \n",
    "    return pd.DataFrame([map_winrate, win_count, map_count], index=['Win %', 'Win Count','Map Count']).transpose()"
   ]
  },
  {
   "cell_type": "code",
   "execution_count": 242,
   "metadata": {},
   "outputs": [
    {
     "data": {
      "text/html": [
       "<div>\n",
       "<style scoped>\n",
       "    .dataframe tbody tr th:only-of-type {\n",
       "        vertical-align: middle;\n",
       "    }\n",
       "\n",
       "    .dataframe tbody tr th {\n",
       "        vertical-align: top;\n",
       "    }\n",
       "\n",
       "    .dataframe thead th {\n",
       "        text-align: right;\n",
       "    }\n",
       "</style>\n",
       "<table border=\"1\" class=\"dataframe\">\n",
       "  <thead>\n",
       "    <tr style=\"text-align: right;\">\n",
       "      <th></th>\n",
       "      <th>Win %</th>\n",
       "      <th>Win Count</th>\n",
       "      <th>Map Count</th>\n",
       "    </tr>\n",
       "  </thead>\n",
       "  <tbody>\n",
       "    <tr>\n",
       "      <th>Inferno</th>\n",
       "      <td>75.14</td>\n",
       "      <td>130.0</td>\n",
       "      <td>173.0</td>\n",
       "    </tr>\n",
       "    <tr>\n",
       "      <th>Overpass</th>\n",
       "      <td>66.67</td>\n",
       "      <td>102.0</td>\n",
       "      <td>153.0</td>\n",
       "    </tr>\n",
       "    <tr>\n",
       "      <th>Train</th>\n",
       "      <td>65.65</td>\n",
       "      <td>86.0</td>\n",
       "      <td>131.0</td>\n",
       "    </tr>\n",
       "    <tr>\n",
       "      <th>Mirage</th>\n",
       "      <td>68.99</td>\n",
       "      <td>89.0</td>\n",
       "      <td>129.0</td>\n",
       "    </tr>\n",
       "    <tr>\n",
       "      <th>Nuke</th>\n",
       "      <td>75.45</td>\n",
       "      <td>83.0</td>\n",
       "      <td>110.0</td>\n",
       "    </tr>\n",
       "    <tr>\n",
       "      <th>Dust2</th>\n",
       "      <td>63.64</td>\n",
       "      <td>63.0</td>\n",
       "      <td>99.0</td>\n",
       "    </tr>\n",
       "    <tr>\n",
       "      <th>Cache</th>\n",
       "      <td>59.26</td>\n",
       "      <td>32.0</td>\n",
       "      <td>54.0</td>\n",
       "    </tr>\n",
       "    <tr>\n",
       "      <th>Vertigo</th>\n",
       "      <td>71.43</td>\n",
       "      <td>10.0</td>\n",
       "      <td>14.0</td>\n",
       "    </tr>\n",
       "    <tr>\n",
       "      <th>Cobblestone</th>\n",
       "      <td>11.11</td>\n",
       "      <td>1.0</td>\n",
       "      <td>9.0</td>\n",
       "    </tr>\n",
       "  </tbody>\n",
       "</table>\n",
       "</div>"
      ],
      "text/plain": [
       "             Win %  Win Count  Map Count\n",
       "Inferno      75.14      130.0      173.0\n",
       "Overpass     66.67      102.0      153.0\n",
       "Train        65.65       86.0      131.0\n",
       "Mirage       68.99       89.0      129.0\n",
       "Nuke         75.45       83.0      110.0\n",
       "Dust2        63.64       63.0       99.0\n",
       "Cache        59.26       32.0       54.0\n",
       "Vertigo      71.43       10.0       14.0\n",
       "Cobblestone  11.11        1.0        9.0"
      ]
     },
     "execution_count": 242,
     "metadata": {},
     "output_type": "execute_result"
    }
   ],
   "source": [
    "win_rate_per_map('Astralis')"
   ]
  },
  {
   "cell_type": "markdown",
   "metadata": {},
   "source": [
    "# See if features need to be added/changed/removed in order to build a model to predict match winners "
   ]
  },
  {
   "cell_type": "markdown",
   "metadata": {},
   "source": [
    "Let's build a model that predicts map win based on the halftime score "
   ]
  },
  {
   "cell_type": "code",
   "execution_count": 243,
   "metadata": {},
   "outputs": [],
   "source": [
    "def halftime_1(df):\n",
    "    if df['starting_ct'] == 1:\n",
    "        return df['ct_score_1'] \n",
    "    else:\n",
    "        return df['t_score_1']\n",
    "\n",
    "def halftime_2(df):\n",
    "    if df['starting_ct'] == 2:\n",
    "        return df['ct_score_2'] \n",
    "    else:\n",
    "        return df['t_score_2']\n",
    "    \n",
    "    \n",
    "results['ht_score_1'] = results.apply(halftime_1, axis=1)\n",
    "results['ht_score_2'] = results.apply(halftime_2, axis=1)"
   ]
  },
  {
   "cell_type": "code",
   "execution_count": 244,
   "metadata": {},
   "outputs": [
    {
     "data": {
      "text/html": [
       "<div>\n",
       "<style scoped>\n",
       "    .dataframe tbody tr th:only-of-type {\n",
       "        vertical-align: middle;\n",
       "    }\n",
       "\n",
       "    .dataframe tbody tr th {\n",
       "        vertical-align: top;\n",
       "    }\n",
       "\n",
       "    .dataframe thead th {\n",
       "        text-align: right;\n",
       "    }\n",
       "</style>\n",
       "<table border=\"1\" class=\"dataframe\">\n",
       "  <thead>\n",
       "    <tr style=\"text-align: right;\">\n",
       "      <th></th>\n",
       "      <th>date</th>\n",
       "      <th>team_1</th>\n",
       "      <th>team_2</th>\n",
       "      <th>_map</th>\n",
       "      <th>score_1</th>\n",
       "      <th>score_2</th>\n",
       "      <th>map_winner</th>\n",
       "      <th>starting_ct</th>\n",
       "      <th>ct_score_1</th>\n",
       "      <th>t_score_2</th>\n",
       "      <th>t_score_1</th>\n",
       "      <th>ct_score_2</th>\n",
       "      <th>event_id</th>\n",
       "      <th>match_id</th>\n",
       "      <th>match_winner</th>\n",
       "      <th>side_won_1</th>\n",
       "      <th>side_won_2</th>\n",
       "      <th>ht_score_1</th>\n",
       "      <th>ht_score_2</th>\n",
       "    </tr>\n",
       "  </thead>\n",
       "  <tbody>\n",
       "    <tr>\n",
       "      <th>0</th>\n",
       "      <td>737502</td>\n",
       "      <td>Recon 5</td>\n",
       "      <td>TeamOne</td>\n",
       "      <td>Dust2</td>\n",
       "      <td>0</td>\n",
       "      <td>16</td>\n",
       "      <td>2</td>\n",
       "      <td>2</td>\n",
       "      <td>0</td>\n",
       "      <td>1</td>\n",
       "      <td>0</td>\n",
       "      <td>15</td>\n",
       "      <td>5151</td>\n",
       "      <td>2340454</td>\n",
       "      <td>2</td>\n",
       "      <td>1</td>\n",
       "      <td>0</td>\n",
       "      <td>0</td>\n",
       "      <td>15</td>\n",
       "    </tr>\n",
       "    <tr>\n",
       "      <th>1</th>\n",
       "      <td>737502</td>\n",
       "      <td>Recon 5</td>\n",
       "      <td>TeamOne</td>\n",
       "      <td>Inferno</td>\n",
       "      <td>13</td>\n",
       "      <td>16</td>\n",
       "      <td>2</td>\n",
       "      <td>2</td>\n",
       "      <td>8</td>\n",
       "      <td>6</td>\n",
       "      <td>5</td>\n",
       "      <td>10</td>\n",
       "      <td>5151</td>\n",
       "      <td>2340454</td>\n",
       "      <td>2</td>\n",
       "      <td>0</td>\n",
       "      <td>0</td>\n",
       "      <td>5</td>\n",
       "      <td>10</td>\n",
       "    </tr>\n",
       "    <tr>\n",
       "      <th>2</th>\n",
       "      <td>737502</td>\n",
       "      <td>New England Whalers</td>\n",
       "      <td>Station7</td>\n",
       "      <td>Inferno</td>\n",
       "      <td>12</td>\n",
       "      <td>16</td>\n",
       "      <td>2</td>\n",
       "      <td>1</td>\n",
       "      <td>9</td>\n",
       "      <td>6</td>\n",
       "      <td>3</td>\n",
       "      <td>10</td>\n",
       "      <td>5243</td>\n",
       "      <td>2340461</td>\n",
       "      <td>2</td>\n",
       "      <td>0</td>\n",
       "      <td>0</td>\n",
       "      <td>9</td>\n",
       "      <td>6</td>\n",
       "    </tr>\n",
       "    <tr>\n",
       "      <th>3</th>\n",
       "      <td>737502</td>\n",
       "      <td>Rugratz</td>\n",
       "      <td>Bad News Bears</td>\n",
       "      <td>Inferno</td>\n",
       "      <td>7</td>\n",
       "      <td>16</td>\n",
       "      <td>2</td>\n",
       "      <td>2</td>\n",
       "      <td>0</td>\n",
       "      <td>8</td>\n",
       "      <td>7</td>\n",
       "      <td>8</td>\n",
       "      <td>5151</td>\n",
       "      <td>2340453</td>\n",
       "      <td>2</td>\n",
       "      <td>1</td>\n",
       "      <td>0</td>\n",
       "      <td>7</td>\n",
       "      <td>8</td>\n",
       "    </tr>\n",
       "    <tr>\n",
       "      <th>4</th>\n",
       "      <td>737502</td>\n",
       "      <td>Rugratz</td>\n",
       "      <td>Bad News Bears</td>\n",
       "      <td>Vertigo</td>\n",
       "      <td>8</td>\n",
       "      <td>16</td>\n",
       "      <td>2</td>\n",
       "      <td>2</td>\n",
       "      <td>4</td>\n",
       "      <td>5</td>\n",
       "      <td>4</td>\n",
       "      <td>11</td>\n",
       "      <td>5151</td>\n",
       "      <td>2340453</td>\n",
       "      <td>2</td>\n",
       "      <td>1</td>\n",
       "      <td>0</td>\n",
       "      <td>4</td>\n",
       "      <td>11</td>\n",
       "    </tr>\n",
       "  </tbody>\n",
       "</table>\n",
       "</div>"
      ],
      "text/plain": [
       "     date               team_1          team_2     _map  score_1  score_2  \\\n",
       "0  737502              Recon 5         TeamOne    Dust2        0       16   \n",
       "1  737502              Recon 5         TeamOne  Inferno       13       16   \n",
       "2  737502  New England Whalers        Station7  Inferno       12       16   \n",
       "3  737502              Rugratz  Bad News Bears  Inferno        7       16   \n",
       "4  737502              Rugratz  Bad News Bears  Vertigo        8       16   \n",
       "\n",
       "   map_winner  starting_ct  ct_score_1  t_score_2  t_score_1  ct_score_2  \\\n",
       "0           2            2           0          1          0          15   \n",
       "1           2            2           8          6          5          10   \n",
       "2           2            1           9          6          3          10   \n",
       "3           2            2           0          8          7           8   \n",
       "4           2            2           4          5          4          11   \n",
       "\n",
       "   event_id  match_id  match_winner  side_won_1  side_won_2  ht_score_1  \\\n",
       "0      5151   2340454             2           1           0           0   \n",
       "1      5151   2340454             2           0           0           5   \n",
       "2      5243   2340461             2           0           0           9   \n",
       "3      5151   2340453             2           1           0           7   \n",
       "4      5151   2340453             2           1           0           4   \n",
       "\n",
       "   ht_score_2  \n",
       "0          15  \n",
       "1          10  \n",
       "2           6  \n",
       "3           8  \n",
       "4          11  "
      ]
     },
     "execution_count": 244,
     "metadata": {},
     "output_type": "execute_result"
    }
   ],
   "source": [
    "results.head()"
   ]
  },
  {
   "cell_type": "code",
   "execution_count": 245,
   "metadata": {},
   "outputs": [],
   "source": [
    "results.drop(['team_1', 'team_2', 'event_id', 'match_id'], axis=1, inplace=True)"
   ]
  },
  {
   "cell_type": "code",
   "execution_count": 246,
   "metadata": {},
   "outputs": [],
   "source": [
    "results = results.astype({'map_winner': 'category', 'starting_ct': 'category', 'match_winner': 'category', 'side_won_1': 'category', 'side_won_2': 'category'})"
   ]
  },
  {
   "cell_type": "code",
   "execution_count": 247,
   "metadata": {},
   "outputs": [
    {
     "name": "stdout",
     "output_type": "stream",
     "text": [
      "<class 'pandas.core.frame.DataFrame'>\n",
      "Int64Index: 45752 entries, 0 to 45772\n",
      "Data columns (total 15 columns):\n",
      " #   Column        Non-Null Count  Dtype   \n",
      "---  ------        --------------  -----   \n",
      " 0   date          45752 non-null  int64   \n",
      " 1   _map          45752 non-null  object  \n",
      " 2   score_1       45752 non-null  int64   \n",
      " 3   score_2       45752 non-null  int64   \n",
      " 4   map_winner    45752 non-null  category\n",
      " 5   starting_ct   45752 non-null  category\n",
      " 6   ct_score_1    45752 non-null  int64   \n",
      " 7   t_score_2     45752 non-null  int64   \n",
      " 8   t_score_1     45752 non-null  int64   \n",
      " 9   ct_score_2    45752 non-null  int64   \n",
      " 10  match_winner  45752 non-null  category\n",
      " 11  side_won_1    45752 non-null  category\n",
      " 12  side_won_2    45752 non-null  category\n",
      " 13  ht_score_1    45752 non-null  int64   \n",
      " 14  ht_score_2    45752 non-null  int64   \n",
      "dtypes: category(5), int64(9), object(1)\n",
      "memory usage: 4.1+ MB\n"
     ]
    }
   ],
   "source": [
    "results.info()"
   ]
  },
  {
   "cell_type": "code",
   "execution_count": 248,
   "metadata": {},
   "outputs": [],
   "source": [
    "results_dummy = pd.get_dummies(data=results, drop_first=True)\n",
    "results_dummy.drop(['score_1', 'score_2', 'ct_score_1', 'ct_score_2', 't_score_1', 't_score_2', 'match_winner_2', 'side_won_1_1', 'side_won_2_1'], axis=1, inplace=True)"
   ]
  },
  {
   "cell_type": "code",
   "execution_count": 249,
   "metadata": {},
   "outputs": [],
   "source": [
    "X = results_dummy.drop(['map_winner_2'], axis=1)\n",
    "y = results_dummy['map_winner_2']\n",
    "\n",
    "X_train, X_test, y_train, y_test = train_test_split(X, y, test_size=0.3, random_state=101)"
   ]
  },
  {
   "cell_type": "markdown",
   "metadata": {},
   "source": [
    "## Logistic Regression\n"
   ]
  },
  {
   "cell_type": "code",
   "execution_count": 256,
   "metadata": {},
   "outputs": [
    {
     "data": {
      "text/plain": [
       "LogisticRegression()"
      ]
     },
     "execution_count": 256,
     "metadata": {},
     "output_type": "execute_result"
    }
   ],
   "source": [
    "logreg = LogisticRegression()\n",
    "logreg.fit(X_train, y_train)"
   ]
  },
  {
   "cell_type": "code",
   "execution_count": 262,
   "metadata": {},
   "outputs": [],
   "source": [
    "logreg_pred = logreg.predict(X_test)"
   ]
  },
  {
   "cell_type": "code",
   "execution_count": 267,
   "metadata": {},
   "outputs": [
    {
     "name": "stdout",
     "output_type": "stream",
     "text": [
      "[[7347    0]\n",
      " [6379    0]]\n"
     ]
    }
   ],
   "source": [
    "print(confusion_matrix(y_test, logreg_pred))"
   ]
  },
  {
   "cell_type": "code",
   "execution_count": 264,
   "metadata": {},
   "outputs": [
    {
     "name": "stdout",
     "output_type": "stream",
     "text": [
      "              precision    recall  f1-score   support\n",
      "\n",
      "           0       0.54      1.00      0.70      7347\n",
      "           1       0.00      0.00      0.00      6379\n",
      "\n",
      "    accuracy                           0.54     13726\n",
      "   macro avg       0.27      0.50      0.35     13726\n",
      "weighted avg       0.29      0.54      0.37     13726\n",
      "\n"
     ]
    },
    {
     "name": "stderr",
     "output_type": "stream",
     "text": [
      "C:\\Users\\Taha\\anaconda3\\lib\\site-packages\\sklearn\\metrics\\_classification.py:1221: UndefinedMetricWarning: Precision and F-score are ill-defined and being set to 0.0 in labels with no predicted samples. Use `zero_division` parameter to control this behavior.\n",
      "  _warn_prf(average, modifier, msg_start, len(result))\n"
     ]
    }
   ],
   "source": [
    "print(classification_report(y_test, logreg_pred))"
   ]
  },
  {
   "cell_type": "code",
   "execution_count": 270,
   "metadata": {},
   "outputs": [
    {
     "name": "stdout",
     "output_type": "stream",
     "text": [
      "0.5352615474282384\n"
     ]
    }
   ],
   "source": [
    "print(accuracy_score(y_test, logreg_pred))"
   ]
  },
  {
   "cell_type": "markdown",
   "metadata": {},
   "source": [
    "Hyperparameter optimization for logreg"
   ]
  },
  {
   "cell_type": "code",
   "execution_count": 275,
   "metadata": {},
   "outputs": [],
   "source": [
    "param_grid = {'C': [0.01, 0.1, 1, 10, 100], 'solver': ['newton-cg', 'lbfgs', 'liblinear']}"
   ]
  },
  {
   "cell_type": "code",
   "execution_count": 276,
   "metadata": {},
   "outputs": [],
   "source": [
    "grid = GridSearchCV(LogisticRegression(), param_grid, refit=True, verbose=3)"
   ]
  },
  {
   "cell_type": "code",
   "execution_count": 279,
   "metadata": {
    "collapsed": true,
    "jupyter": {
     "outputs_hidden": true
    }
   },
   "outputs": [
    {
     "name": "stdout",
     "output_type": "stream",
     "text": [
      "Fitting 5 folds for each of 15 candidates, totalling 75 fits\n",
      "[CV] C=0.01, solver=newton-cg ........................................\n"
     ]
    },
    {
     "name": "stderr",
     "output_type": "stream",
     "text": [
      "[Parallel(n_jobs=1)]: Using backend SequentialBackend with 1 concurrent workers.\n"
     ]
    },
    {
     "name": "stdout",
     "output_type": "stream",
     "text": [
      "[CV] ............ C=0.01, solver=newton-cg, score=0.767, total=   1.4s\n",
      "[CV] C=0.01, solver=newton-cg ........................................\n"
     ]
    },
    {
     "name": "stderr",
     "output_type": "stream",
     "text": [
      "[Parallel(n_jobs=1)]: Done   1 out of   1 | elapsed:    1.3s remaining:    0.0s\n"
     ]
    },
    {
     "name": "stdout",
     "output_type": "stream",
     "text": [
      "[CV] ............ C=0.01, solver=newton-cg, score=0.779, total=   1.3s\n",
      "[CV] C=0.01, solver=newton-cg ........................................\n"
     ]
    },
    {
     "name": "stderr",
     "output_type": "stream",
     "text": [
      "[Parallel(n_jobs=1)]: Done   2 out of   2 | elapsed:    2.6s remaining:    0.0s\n"
     ]
    },
    {
     "name": "stdout",
     "output_type": "stream",
     "text": [
      "[CV] ............ C=0.01, solver=newton-cg, score=0.779, total=   1.8s\n",
      "[CV] C=0.01, solver=newton-cg ........................................\n",
      "[CV] ............ C=0.01, solver=newton-cg, score=0.773, total=   1.6s\n",
      "[CV] C=0.01, solver=newton-cg ........................................\n",
      "[CV] ............ C=0.01, solver=newton-cg, score=0.773, total=   1.5s\n",
      "[CV] C=0.01, solver=lbfgs ............................................\n",
      "[CV] ................ C=0.01, solver=lbfgs, score=0.538, total=   0.0s\n",
      "[CV] C=0.01, solver=lbfgs ............................................\n",
      "[CV] ................ C=0.01, solver=lbfgs, score=0.538, total=   0.0s\n",
      "[CV] C=0.01, solver=lbfgs ............................................\n",
      "[CV] ................ C=0.01, solver=lbfgs, score=0.538, total=   0.0s\n",
      "[CV] C=0.01, solver=lbfgs ............................................\n",
      "[CV] ................ C=0.01, solver=lbfgs, score=0.538, total=   0.0s\n",
      "[CV] C=0.01, solver=lbfgs ............................................\n",
      "[CV] ................ C=0.01, solver=lbfgs, score=0.538, total=   0.0s\n",
      "[CV] C=0.01, solver=liblinear ........................................\n",
      "[CV] ............ C=0.01, solver=liblinear, score=0.554, total=   0.1s\n",
      "[CV] C=0.01, solver=liblinear ........................................\n",
      "[CV] ............ C=0.01, solver=liblinear, score=0.551, total=   0.1s\n",
      "[CV] C=0.01, solver=liblinear ........................................\n",
      "[CV] ............ C=0.01, solver=liblinear, score=0.553, total=   0.1s\n",
      "[CV] C=0.01, solver=liblinear ........................................\n",
      "[CV] ............ C=0.01, solver=liblinear, score=0.553, total=   0.1s\n",
      "[CV] C=0.01, solver=liblinear ........................................\n",
      "[CV] ............ C=0.01, solver=liblinear, score=0.554, total=   0.1s\n",
      "[CV] C=0.1, solver=newton-cg .........................................\n",
      "[CV] ............. C=0.1, solver=newton-cg, score=0.767, total=   1.9s\n",
      "[CV] C=0.1, solver=newton-cg .........................................\n",
      "[CV] ............. C=0.1, solver=newton-cg, score=0.779, total=   2.0s\n",
      "[CV] C=0.1, solver=newton-cg .........................................\n",
      "[CV] ............. C=0.1, solver=newton-cg, score=0.779, total=   1.9s\n",
      "[CV] C=0.1, solver=newton-cg .........................................\n",
      "[CV] ............. C=0.1, solver=newton-cg, score=0.773, total=   1.9s\n",
      "[CV] C=0.1, solver=newton-cg .........................................\n",
      "[CV] ............. C=0.1, solver=newton-cg, score=0.773, total=   1.9s\n",
      "[CV] C=0.1, solver=lbfgs .............................................\n",
      "[CV] ................. C=0.1, solver=lbfgs, score=0.538, total=   0.0s\n",
      "[CV] C=0.1, solver=lbfgs .............................................\n",
      "[CV] ................. C=0.1, solver=lbfgs, score=0.538, total=   0.0s\n",
      "[CV] C=0.1, solver=lbfgs .............................................\n",
      "[CV] ................. C=0.1, solver=lbfgs, score=0.538, total=   0.0s\n",
      "[CV] C=0.1, solver=lbfgs .............................................\n",
      "[CV] ................. C=0.1, solver=lbfgs, score=0.538, total=   0.0s\n",
      "[CV] C=0.1, solver=lbfgs .............................................\n",
      "[CV] ................. C=0.1, solver=lbfgs, score=0.538, total=   0.0s\n",
      "[CV] C=0.1, solver=liblinear .........................................\n",
      "[CV] ............. C=0.1, solver=liblinear, score=0.554, total=   0.1s\n",
      "[CV] C=0.1, solver=liblinear .........................................\n",
      "[CV] ............. C=0.1, solver=liblinear, score=0.551, total=   0.1s\n",
      "[CV] C=0.1, solver=liblinear .........................................\n",
      "[CV] ............. C=0.1, solver=liblinear, score=0.553, total=   0.1s\n",
      "[CV] C=0.1, solver=liblinear .........................................\n",
      "[CV] ............. C=0.1, solver=liblinear, score=0.553, total=   0.1s\n",
      "[CV] C=0.1, solver=liblinear .........................................\n",
      "[CV] ............. C=0.1, solver=liblinear, score=0.554, total=   0.1s\n",
      "[CV] C=1, solver=newton-cg ...........................................\n",
      "[CV] ............... C=1, solver=newton-cg, score=0.767, total=   1.8s\n",
      "[CV] C=1, solver=newton-cg ...........................................\n",
      "[CV] ............... C=1, solver=newton-cg, score=0.779, total=   1.8s\n",
      "[CV] C=1, solver=newton-cg ...........................................\n",
      "[CV] ............... C=1, solver=newton-cg, score=0.779, total=   1.7s\n",
      "[CV] C=1, solver=newton-cg ...........................................\n",
      "[CV] ............... C=1, solver=newton-cg, score=0.773, total=   1.6s\n",
      "[CV] C=1, solver=newton-cg ...........................................\n",
      "[CV] ............... C=1, solver=newton-cg, score=0.773, total=   1.8s\n",
      "[CV] C=1, solver=lbfgs ...............................................\n",
      "[CV] ................... C=1, solver=lbfgs, score=0.538, total=   0.0s\n",
      "[CV] C=1, solver=lbfgs ...............................................\n",
      "[CV] ................... C=1, solver=lbfgs, score=0.538, total=   0.0s\n",
      "[CV] C=1, solver=lbfgs ...............................................\n",
      "[CV] ................... C=1, solver=lbfgs, score=0.538, total=   0.0s\n",
      "[CV] C=1, solver=lbfgs ...............................................\n",
      "[CV] ................... C=1, solver=lbfgs, score=0.538, total=   0.0s\n",
      "[CV] C=1, solver=lbfgs ...............................................\n",
      "[CV] ................... C=1, solver=lbfgs, score=0.538, total=   0.0s\n",
      "[CV] C=1, solver=liblinear ...........................................\n",
      "[CV] ............... C=1, solver=liblinear, score=0.554, total=   0.1s\n",
      "[CV] C=1, solver=liblinear ...........................................\n",
      "[CV] ............... C=1, solver=liblinear, score=0.551, total=   0.1s\n",
      "[CV] C=1, solver=liblinear ...........................................\n",
      "[CV] ............... C=1, solver=liblinear, score=0.553, total=   0.1s\n",
      "[CV] C=1, solver=liblinear ...........................................\n",
      "[CV] ............... C=1, solver=liblinear, score=0.553, total=   0.1s\n",
      "[CV] C=1, solver=liblinear ...........................................\n",
      "[CV] ............... C=1, solver=liblinear, score=0.554, total=   0.1s\n",
      "[CV] C=10, solver=newton-cg ..........................................\n",
      "[CV] .............. C=10, solver=newton-cg, score=0.767, total=   2.0s\n",
      "[CV] C=10, solver=newton-cg ..........................................\n",
      "[CV] .............. C=10, solver=newton-cg, score=0.779, total=   2.1s\n",
      "[CV] C=10, solver=newton-cg ..........................................\n",
      "[CV] .............. C=10, solver=newton-cg, score=0.779, total=   1.7s\n",
      "[CV] C=10, solver=newton-cg ..........................................\n",
      "[CV] .............. C=10, solver=newton-cg, score=0.773, total=   2.0s\n",
      "[CV] C=10, solver=newton-cg ..........................................\n",
      "[CV] .............. C=10, solver=newton-cg, score=0.773, total=   1.7s\n",
      "[CV] C=10, solver=lbfgs ..............................................\n",
      "[CV] .................. C=10, solver=lbfgs, score=0.538, total=   0.0s\n",
      "[CV] C=10, solver=lbfgs ..............................................\n",
      "[CV] .................. C=10, solver=lbfgs, score=0.538, total=   0.0s\n",
      "[CV] C=10, solver=lbfgs ..............................................\n",
      "[CV] .................. C=10, solver=lbfgs, score=0.538, total=   0.0s\n",
      "[CV] C=10, solver=lbfgs ..............................................\n",
      "[CV] .................. C=10, solver=lbfgs, score=0.538, total=   0.0s\n",
      "[CV] C=10, solver=lbfgs ..............................................\n",
      "[CV] .................. C=10, solver=lbfgs, score=0.538, total=   0.0s\n",
      "[CV] C=10, solver=liblinear ..........................................\n",
      "[CV] .............. C=10, solver=liblinear, score=0.554, total=   0.1s\n",
      "[CV] C=10, solver=liblinear ..........................................\n",
      "[CV] .............. C=10, solver=liblinear, score=0.551, total=   0.1s\n",
      "[CV] C=10, solver=liblinear ..........................................\n",
      "[CV] .............. C=10, solver=liblinear, score=0.553, total=   0.1s\n",
      "[CV] C=10, solver=liblinear ..........................................\n",
      "[CV] .............. C=10, solver=liblinear, score=0.553, total=   0.1s\n",
      "[CV] C=10, solver=liblinear ..........................................\n",
      "[CV] .............. C=10, solver=liblinear, score=0.554, total=   0.1s\n",
      "[CV] C=100, solver=newton-cg .........................................\n",
      "[CV] ............. C=100, solver=newton-cg, score=0.767, total=   1.5s\n",
      "[CV] C=100, solver=newton-cg .........................................\n",
      "[CV] ............. C=100, solver=newton-cg, score=0.779, total=   1.9s\n",
      "[CV] C=100, solver=newton-cg .........................................\n",
      "[CV] ............. C=100, solver=newton-cg, score=0.779, total=   1.8s\n",
      "[CV] C=100, solver=newton-cg .........................................\n",
      "[CV] ............. C=100, solver=newton-cg, score=0.773, total=   1.6s\n",
      "[CV] C=100, solver=newton-cg .........................................\n",
      "[CV] ............. C=100, solver=newton-cg, score=0.773, total=   1.7s\n",
      "[CV] C=100, solver=lbfgs .............................................\n",
      "[CV] ................. C=100, solver=lbfgs, score=0.538, total=   0.0s\n",
      "[CV] C=100, solver=lbfgs .............................................\n",
      "[CV] ................. C=100, solver=lbfgs, score=0.538, total=   0.0s\n",
      "[CV] C=100, solver=lbfgs .............................................\n",
      "[CV] ................. C=100, solver=lbfgs, score=0.538, total=   0.0s\n",
      "[CV] C=100, solver=lbfgs .............................................\n",
      "[CV] ................. C=100, solver=lbfgs, score=0.538, total=   0.0s\n",
      "[CV] C=100, solver=lbfgs .............................................\n",
      "[CV] ................. C=100, solver=lbfgs, score=0.538, total=   0.0s\n",
      "[CV] C=100, solver=liblinear .........................................\n",
      "[CV] ............. C=100, solver=liblinear, score=0.554, total=   0.1s\n",
      "[CV] C=100, solver=liblinear .........................................\n",
      "[CV] ............. C=100, solver=liblinear, score=0.551, total=   0.1s\n",
      "[CV] C=100, solver=liblinear .........................................\n",
      "[CV] ............. C=100, solver=liblinear, score=0.553, total=   0.1s\n",
      "[CV] C=100, solver=liblinear .........................................\n",
      "[CV] ............. C=100, solver=liblinear, score=0.553, total=   0.1s\n",
      "[CV] C=100, solver=liblinear .........................................\n",
      "[CV] ............. C=100, solver=liblinear, score=0.554, total=   0.1s\n"
     ]
    },
    {
     "name": "stderr",
     "output_type": "stream",
     "text": [
      "[Parallel(n_jobs=1)]: Done  75 out of  75 | elapsed:   46.0s finished\n"
     ]
    },
    {
     "data": {
      "text/plain": [
       "GridSearchCV(estimator=LogisticRegression(),\n",
       "             param_grid={'C': [0.01, 0.1, 1, 10, 100],\n",
       "                         'solver': ['newton-cg', 'lbfgs', 'liblinear']},\n",
       "             verbose=3)"
      ]
     },
     "execution_count": 279,
     "metadata": {},
     "output_type": "execute_result"
    }
   ],
   "source": [
    "grid.fit(X_train, y_train)"
   ]
  },
  {
   "cell_type": "code",
   "execution_count": 280,
   "metadata": {},
   "outputs": [
    {
     "data": {
      "text/plain": [
       "{'C': 0.01, 'solver': 'newton-cg'}"
      ]
     },
     "execution_count": 280,
     "metadata": {},
     "output_type": "execute_result"
    }
   ],
   "source": [
    "grid.best_params_"
   ]
  },
  {
   "cell_type": "code",
   "execution_count": 281,
   "metadata": {},
   "outputs": [
    {
     "data": {
      "text/plain": [
       "LogisticRegression(C=0.01, solver='newton-cg')"
      ]
     },
     "execution_count": 281,
     "metadata": {},
     "output_type": "execute_result"
    }
   ],
   "source": [
    "grid.best_estimator_"
   ]
  },
  {
   "cell_type": "code",
   "execution_count": 282,
   "metadata": {},
   "outputs": [],
   "source": [
    "grid_pred = grid.predict(X_test)"
   ]
  },
  {
   "cell_type": "code",
   "execution_count": 283,
   "metadata": {},
   "outputs": [
    {
     "name": "stdout",
     "output_type": "stream",
     "text": [
      "[[5754 1593]\n",
      " [1524 4855]]\n"
     ]
    }
   ],
   "source": [
    "print(confusion_matrix(y_test, grid_pred))"
   ]
  },
  {
   "cell_type": "code",
   "execution_count": 285,
   "metadata": {},
   "outputs": [
    {
     "name": "stdout",
     "output_type": "stream",
     "text": [
      "              precision    recall  f1-score   support\n",
      "\n",
      "           0       0.79      0.78      0.79      7347\n",
      "           1       0.75      0.76      0.76      6379\n",
      "\n",
      "    accuracy                           0.77     13726\n",
      "   macro avg       0.77      0.77      0.77     13726\n",
      "weighted avg       0.77      0.77      0.77     13726\n",
      "\n"
     ]
    }
   ],
   "source": [
    "print(classification_report(y_test, grid_pred))"
   ]
  },
  {
   "cell_type": "code",
   "execution_count": 286,
   "metadata": {},
   "outputs": [
    {
     "name": "stdout",
     "output_type": "stream",
     "text": [
      "0.7729127203846714\n"
     ]
    }
   ],
   "source": [
    "print(accuracy_score(y_test, grid_pred))"
   ]
  },
  {
   "cell_type": "markdown",
   "metadata": {},
   "source": [
    "## Random Forest"
   ]
  },
  {
   "cell_type": "code",
   "execution_count": 250,
   "metadata": {},
   "outputs": [
    {
     "data": {
      "text/plain": [
       "RandomForestClassifier()"
      ]
     },
     "execution_count": 250,
     "metadata": {},
     "output_type": "execute_result"
    }
   ],
   "source": [
    "rfc = RandomForestClassifier(n_estimators=100)\n",
    "rfc.fit(X_train, y_train)"
   ]
  },
  {
   "cell_type": "code",
   "execution_count": 252,
   "metadata": {},
   "outputs": [],
   "source": [
    "rfc_pred = rfc.predict(X_test)"
   ]
  },
  {
   "cell_type": "code",
   "execution_count": 253,
   "metadata": {},
   "outputs": [
    {
     "name": "stdout",
     "output_type": "stream",
     "text": [
      "[[5350 1997]\n",
      " [2072 4307]]\n"
     ]
    }
   ],
   "source": [
    "print(confusion_matrix(y_test,rfc_pred))"
   ]
  },
  {
   "cell_type": "code",
   "execution_count": 254,
   "metadata": {},
   "outputs": [
    {
     "name": "stdout",
     "output_type": "stream",
     "text": [
      "              precision    recall  f1-score   support\n",
      "\n",
      "           0       0.72      0.73      0.72      7347\n",
      "           1       0.68      0.68      0.68      6379\n",
      "\n",
      "    accuracy                           0.70     13726\n",
      "   macro avg       0.70      0.70      0.70     13726\n",
      "weighted avg       0.70      0.70      0.70     13726\n",
      "\n"
     ]
    }
   ],
   "source": [
    "print(classification_report(y_test,rfc_pred))"
   ]
  },
  {
   "cell_type": "code",
   "execution_count": 271,
   "metadata": {},
   "outputs": [
    {
     "name": "stdout",
     "output_type": "stream",
     "text": [
      "0.7035552965175579\n"
     ]
    }
   ],
   "source": [
    "print(accuracy_score(y_test, rfc_pred))"
   ]
  },
  {
   "cell_type": "code",
   "execution_count": 289,
   "metadata": {},
   "outputs": [],
   "source": [
    "param_grid = {'n_estimators': [10, 100, 1000], 'max_features': ['sqrt', 'log2'], 'max_features': [1, 2, 3, 4, 5, 6]}\n",
    "rfc_grid = GridSearchCV(RandomForestClassifier(), param_grid, refit=True, verbose=3)"
   ]
  },
  {
   "cell_type": "code",
   "execution_count": 290,
   "metadata": {
    "collapsed": true,
    "jupyter": {
     "outputs_hidden": true
    }
   },
   "outputs": [
    {
     "name": "stdout",
     "output_type": "stream",
     "text": [
      "Fitting 5 folds for each of 18 candidates, totalling 90 fits\n",
      "[CV] max_features=1, n_estimators=10 .................................\n"
     ]
    },
    {
     "name": "stderr",
     "output_type": "stream",
     "text": [
      "[Parallel(n_jobs=1)]: Using backend SequentialBackend with 1 concurrent workers.\n"
     ]
    },
    {
     "name": "stdout",
     "output_type": "stream",
     "text": [
      "[CV] ..... max_features=1, n_estimators=10, score=0.705, total=   0.2s\n",
      "[CV] max_features=1, n_estimators=10 .................................\n"
     ]
    },
    {
     "name": "stderr",
     "output_type": "stream",
     "text": [
      "[Parallel(n_jobs=1)]: Done   1 out of   1 | elapsed:    0.1s remaining:    0.0s\n"
     ]
    },
    {
     "name": "stdout",
     "output_type": "stream",
     "text": [
      "[CV] ..... max_features=1, n_estimators=10, score=0.707, total=   0.2s\n",
      "[CV] max_features=1, n_estimators=10 .................................\n"
     ]
    },
    {
     "name": "stderr",
     "output_type": "stream",
     "text": [
      "[Parallel(n_jobs=1)]: Done   2 out of   2 | elapsed:    0.4s remaining:    0.0s\n"
     ]
    },
    {
     "name": "stdout",
     "output_type": "stream",
     "text": [
      "[CV] ..... max_features=1, n_estimators=10, score=0.704, total=   0.2s\n",
      "[CV] max_features=1, n_estimators=10 .................................\n",
      "[CV] ..... max_features=1, n_estimators=10, score=0.709, total=   0.2s\n",
      "[CV] max_features=1, n_estimators=10 .................................\n",
      "[CV] ..... max_features=1, n_estimators=10, score=0.711, total=   0.2s\n",
      "[CV] max_features=1, n_estimators=100 ................................\n",
      "[CV] .... max_features=1, n_estimators=100, score=0.702, total=   2.1s\n",
      "[CV] max_features=1, n_estimators=100 ................................\n",
      "[CV] .... max_features=1, n_estimators=100, score=0.704, total=   2.1s\n",
      "[CV] max_features=1, n_estimators=100 ................................\n",
      "[CV] .... max_features=1, n_estimators=100, score=0.697, total=   2.1s\n",
      "[CV] max_features=1, n_estimators=100 ................................\n",
      "[CV] .... max_features=1, n_estimators=100, score=0.705, total=   2.1s\n",
      "[CV] max_features=1, n_estimators=100 ................................\n",
      "[CV] .... max_features=1, n_estimators=100, score=0.702, total=   2.1s\n",
      "[CV] max_features=1, n_estimators=1000 ...............................\n",
      "[CV] ... max_features=1, n_estimators=1000, score=0.701, total=  21.1s\n",
      "[CV] max_features=1, n_estimators=1000 ...............................\n",
      "[CV] ... max_features=1, n_estimators=1000, score=0.702, total=  20.0s\n",
      "[CV] max_features=1, n_estimators=1000 ...............................\n",
      "[CV] ... max_features=1, n_estimators=1000, score=0.698, total=  20.2s\n",
      "[CV] max_features=1, n_estimators=1000 ...............................\n",
      "[CV] ... max_features=1, n_estimators=1000, score=0.704, total=  20.6s\n",
      "[CV] max_features=1, n_estimators=1000 ...............................\n",
      "[CV] ... max_features=1, n_estimators=1000, score=0.702, total=  20.9s\n",
      "[CV] max_features=2, n_estimators=10 .................................\n",
      "[CV] ..... max_features=2, n_estimators=10, score=0.707, total=   0.3s\n",
      "[CV] max_features=2, n_estimators=10 .................................\n",
      "[CV] ..... max_features=2, n_estimators=10, score=0.708, total=   0.2s\n",
      "[CV] max_features=2, n_estimators=10 .................................\n",
      "[CV] ..... max_features=2, n_estimators=10, score=0.703, total=   0.3s\n",
      "[CV] max_features=2, n_estimators=10 .................................\n",
      "[CV] ..... max_features=2, n_estimators=10, score=0.711, total=   0.2s\n",
      "[CV] max_features=2, n_estimators=10 .................................\n",
      "[CV] ..... max_features=2, n_estimators=10, score=0.704, total=   0.2s\n",
      "[CV] max_features=2, n_estimators=100 ................................\n",
      "[CV] .... max_features=2, n_estimators=100, score=0.703, total=   2.6s\n",
      "[CV] max_features=2, n_estimators=100 ................................\n",
      "[CV] .... max_features=2, n_estimators=100, score=0.703, total=   2.3s\n",
      "[CV] max_features=2, n_estimators=100 ................................\n",
      "[CV] .... max_features=2, n_estimators=100, score=0.697, total=   2.2s\n",
      "[CV] max_features=2, n_estimators=100 ................................\n",
      "[CV] .... max_features=2, n_estimators=100, score=0.705, total=   2.3s\n",
      "[CV] max_features=2, n_estimators=100 ................................\n",
      "[CV] .... max_features=2, n_estimators=100, score=0.704, total=   2.2s\n",
      "[CV] max_features=2, n_estimators=1000 ...............................\n",
      "[CV] ... max_features=2, n_estimators=1000, score=0.702, total=  22.8s\n",
      "[CV] max_features=2, n_estimators=1000 ...............................\n",
      "[CV] ... max_features=2, n_estimators=1000, score=0.702, total=  22.5s\n",
      "[CV] max_features=2, n_estimators=1000 ...............................\n",
      "[CV] ... max_features=2, n_estimators=1000, score=0.697, total=  23.3s\n",
      "[CV] max_features=2, n_estimators=1000 ...............................\n",
      "[CV] ... max_features=2, n_estimators=1000, score=0.703, total=  24.6s\n",
      "[CV] max_features=2, n_estimators=1000 ...............................\n",
      "[CV] ... max_features=2, n_estimators=1000, score=0.702, total=  22.9s\n",
      "[CV] max_features=3, n_estimators=10 .................................\n",
      "[CV] ..... max_features=3, n_estimators=10, score=0.709, total=   0.3s\n",
      "[CV] max_features=3, n_estimators=10 .................................\n",
      "[CV] ..... max_features=3, n_estimators=10, score=0.708, total=   0.2s\n",
      "[CV] max_features=3, n_estimators=10 .................................\n",
      "[CV] ..... max_features=3, n_estimators=10, score=0.706, total=   0.2s\n",
      "[CV] max_features=3, n_estimators=10 .................................\n",
      "[CV] ..... max_features=3, n_estimators=10, score=0.709, total=   0.2s\n",
      "[CV] max_features=3, n_estimators=10 .................................\n",
      "[CV] ..... max_features=3, n_estimators=10, score=0.707, total=   0.2s\n",
      "[CV] max_features=3, n_estimators=100 ................................\n",
      "[CV] .... max_features=3, n_estimators=100, score=0.702, total=   2.4s\n",
      "[CV] max_features=3, n_estimators=100 ................................\n",
      "[CV] .... max_features=3, n_estimators=100, score=0.703, total=   2.4s\n",
      "[CV] max_features=3, n_estimators=100 ................................\n",
      "[CV] .... max_features=3, n_estimators=100, score=0.699, total=   2.5s\n",
      "[CV] max_features=3, n_estimators=100 ................................\n",
      "[CV] .... max_features=3, n_estimators=100, score=0.704, total=   2.5s\n",
      "[CV] max_features=3, n_estimators=100 ................................\n",
      "[CV] .... max_features=3, n_estimators=100, score=0.704, total=   2.5s\n",
      "[CV] max_features=3, n_estimators=1000 ...............................\n",
      "[CV] ... max_features=3, n_estimators=1000, score=0.702, total=  24.4s\n",
      "[CV] max_features=3, n_estimators=1000 ...............................\n",
      "[CV] ... max_features=3, n_estimators=1000, score=0.703, total=  25.0s\n",
      "[CV] max_features=3, n_estimators=1000 ...............................\n",
      "[CV] ... max_features=3, n_estimators=1000, score=0.698, total=  23.7s\n",
      "[CV] max_features=3, n_estimators=1000 ...............................\n",
      "[CV] ... max_features=3, n_estimators=1000, score=0.705, total=  25.5s\n",
      "[CV] max_features=3, n_estimators=1000 ...............................\n",
      "[CV] ... max_features=3, n_estimators=1000, score=0.702, total=  24.6s\n",
      "[CV] max_features=4, n_estimators=10 .................................\n",
      "[CV] ..... max_features=4, n_estimators=10, score=0.704, total=   0.3s\n",
      "[CV] max_features=4, n_estimators=10 .................................\n",
      "[CV] ..... max_features=4, n_estimators=10, score=0.709, total=   0.2s\n",
      "[CV] max_features=4, n_estimators=10 .................................\n",
      "[CV] ..... max_features=4, n_estimators=10, score=0.706, total=   0.3s\n",
      "[CV] max_features=4, n_estimators=10 .................................\n",
      "[CV] ..... max_features=4, n_estimators=10, score=0.711, total=   0.3s\n",
      "[CV] max_features=4, n_estimators=10 .................................\n",
      "[CV] ..... max_features=4, n_estimators=10, score=0.711, total=   0.3s\n",
      "[CV] max_features=4, n_estimators=100 ................................\n",
      "[CV] .... max_features=4, n_estimators=100, score=0.703, total=   2.5s\n",
      "[CV] max_features=4, n_estimators=100 ................................\n",
      "[CV] .... max_features=4, n_estimators=100, score=0.705, total=   2.5s\n",
      "[CV] max_features=4, n_estimators=100 ................................\n",
      "[CV] .... max_features=4, n_estimators=100, score=0.699, total=   2.5s\n",
      "[CV] max_features=4, n_estimators=100 ................................\n",
      "[CV] .... max_features=4, n_estimators=100, score=0.704, total=   2.5s\n",
      "[CV] max_features=4, n_estimators=100 ................................\n",
      "[CV] .... max_features=4, n_estimators=100, score=0.706, total=   2.5s\n",
      "[CV] max_features=4, n_estimators=1000 ...............................\n",
      "[CV] ... max_features=4, n_estimators=1000, score=0.702, total=  25.5s\n",
      "[CV] max_features=4, n_estimators=1000 ...............................\n",
      "[CV] ... max_features=4, n_estimators=1000, score=0.703, total=  25.6s\n",
      "[CV] max_features=4, n_estimators=1000 ...............................\n",
      "[CV] ... max_features=4, n_estimators=1000, score=0.699, total=  25.2s\n",
      "[CV] max_features=4, n_estimators=1000 ...............................\n",
      "[CV] ... max_features=4, n_estimators=1000, score=0.705, total=  25.7s\n",
      "[CV] max_features=4, n_estimators=1000 ...............................\n",
      "[CV] ... max_features=4, n_estimators=1000, score=0.705, total=  26.2s\n",
      "[CV] max_features=5, n_estimators=10 .................................\n",
      "[CV] ..... max_features=5, n_estimators=10, score=0.712, total=   0.3s\n",
      "[CV] max_features=5, n_estimators=10 .................................\n",
      "[CV] ..... max_features=5, n_estimators=10, score=0.713, total=   0.3s\n",
      "[CV] max_features=5, n_estimators=10 .................................\n",
      "[CV] ..... max_features=5, n_estimators=10, score=0.712, total=   0.3s\n",
      "[CV] max_features=5, n_estimators=10 .................................\n",
      "[CV] ..... max_features=5, n_estimators=10, score=0.713, total=   0.3s\n",
      "[CV] max_features=5, n_estimators=10 .................................\n",
      "[CV] ..... max_features=5, n_estimators=10, score=0.712, total=   0.3s\n",
      "[CV] max_features=5, n_estimators=100 ................................\n",
      "[CV] .... max_features=5, n_estimators=100, score=0.707, total=   2.6s\n",
      "[CV] max_features=5, n_estimators=100 ................................\n",
      "[CV] .... max_features=5, n_estimators=100, score=0.707, total=   2.8s\n",
      "[CV] max_features=5, n_estimators=100 ................................\n",
      "[CV] .... max_features=5, n_estimators=100, score=0.702, total=   2.8s\n",
      "[CV] max_features=5, n_estimators=100 ................................\n",
      "[CV] .... max_features=5, n_estimators=100, score=0.707, total=   2.7s\n",
      "[CV] max_features=5, n_estimators=100 ................................\n",
      "[CV] .... max_features=5, n_estimators=100, score=0.706, total=   2.6s\n",
      "[CV] max_features=5, n_estimators=1000 ...............................\n",
      "[CV] ... max_features=5, n_estimators=1000, score=0.704, total=  26.9s\n",
      "[CV] max_features=5, n_estimators=1000 ...............................\n",
      "[CV] ... max_features=5, n_estimators=1000, score=0.705, total=  26.9s\n",
      "[CV] max_features=5, n_estimators=1000 ...............................\n",
      "[CV] ... max_features=5, n_estimators=1000, score=0.701, total=  26.8s\n",
      "[CV] max_features=5, n_estimators=1000 ...............................\n",
      "[CV] ... max_features=5, n_estimators=1000, score=0.706, total=  27.1s\n",
      "[CV] max_features=5, n_estimators=1000 ...............................\n",
      "[CV] ... max_features=5, n_estimators=1000, score=0.705, total=  26.9s\n",
      "[CV] max_features=6, n_estimators=10 .................................\n",
      "[CV] ..... max_features=6, n_estimators=10, score=0.712, total=   0.3s\n",
      "[CV] max_features=6, n_estimators=10 .................................\n",
      "[CV] ..... max_features=6, n_estimators=10, score=0.719, total=   0.3s\n",
      "[CV] max_features=6, n_estimators=10 .................................\n",
      "[CV] ..... max_features=6, n_estimators=10, score=0.713, total=   0.3s\n",
      "[CV] max_features=6, n_estimators=10 .................................\n",
      "[CV] ..... max_features=6, n_estimators=10, score=0.714, total=   0.3s\n",
      "[CV] max_features=6, n_estimators=10 .................................\n",
      "[CV] ..... max_features=6, n_estimators=10, score=0.714, total=   0.3s\n",
      "[CV] max_features=6, n_estimators=100 ................................\n",
      "[CV] .... max_features=6, n_estimators=100, score=0.706, total=   2.9s\n",
      "[CV] max_features=6, n_estimators=100 ................................\n",
      "[CV] .... max_features=6, n_estimators=100, score=0.709, total=   2.9s\n",
      "[CV] max_features=6, n_estimators=100 ................................\n",
      "[CV] .... max_features=6, n_estimators=100, score=0.704, total=   2.9s\n",
      "[CV] max_features=6, n_estimators=100 ................................\n",
      "[CV] .... max_features=6, n_estimators=100, score=0.706, total=   2.9s\n",
      "[CV] max_features=6, n_estimators=100 ................................\n",
      "[CV] .... max_features=6, n_estimators=100, score=0.709, total=   2.9s\n",
      "[CV] max_features=6, n_estimators=1000 ...............................\n",
      "[CV] ... max_features=6, n_estimators=1000, score=0.706, total=  29.2s\n",
      "[CV] max_features=6, n_estimators=1000 ...............................\n",
      "[CV] ... max_features=6, n_estimators=1000, score=0.706, total=  29.5s\n",
      "[CV] max_features=6, n_estimators=1000 ...............................\n",
      "[CV] ... max_features=6, n_estimators=1000, score=0.703, total=  30.6s\n",
      "[CV] max_features=6, n_estimators=1000 ...............................\n",
      "[CV] ... max_features=6, n_estimators=1000, score=0.707, total=  29.9s\n",
      "[CV] max_features=6, n_estimators=1000 ...............................\n",
      "[CV] ... max_features=6, n_estimators=1000, score=0.708, total=  30.0s\n"
     ]
    },
    {
     "name": "stderr",
     "output_type": "stream",
     "text": [
      "[Parallel(n_jobs=1)]: Done  90 out of  90 | elapsed: 14.0min finished\n"
     ]
    },
    {
     "data": {
      "text/plain": [
       "GridSearchCV(estimator=RandomForestClassifier(),\n",
       "             param_grid={'max_features': [1, 2, 3, 4, 5, 6],\n",
       "                         'n_estimators': [10, 100, 1000]},\n",
       "             verbose=3)"
      ]
     },
     "execution_count": 290,
     "metadata": {},
     "output_type": "execute_result"
    }
   ],
   "source": [
    "rfc_grid.fit(X_train, y_train)"
   ]
  },
  {
   "cell_type": "code",
   "execution_count": 296,
   "metadata": {},
   "outputs": [],
   "source": [
    "rfc_grid_pred = rfc_grid.predict(X_test)"
   ]
  },
  {
   "cell_type": "code",
   "execution_count": 297,
   "metadata": {},
   "outputs": [
    {
     "name": "stdout",
     "output_type": "stream",
     "text": [
      "[[5490 1857]\n",
      " [2111 4268]]\n"
     ]
    }
   ],
   "source": [
    "print(confusion_matrix(y_test, rfc_grid_pred))"
   ]
  },
  {
   "cell_type": "code",
   "execution_count": 298,
   "metadata": {},
   "outputs": [
    {
     "name": "stdout",
     "output_type": "stream",
     "text": [
      "              precision    recall  f1-score   support\n",
      "\n",
      "           0       0.72      0.75      0.73      7347\n",
      "           1       0.70      0.67      0.68      6379\n",
      "\n",
      "    accuracy                           0.71     13726\n",
      "   macro avg       0.71      0.71      0.71     13726\n",
      "weighted avg       0.71      0.71      0.71     13726\n",
      "\n"
     ]
    }
   ],
   "source": [
    "print(classification_report(y_test, rfc_grid_pred))"
   ]
  },
  {
   "cell_type": "code",
   "execution_count": 300,
   "metadata": {},
   "outputs": [
    {
     "name": "stdout",
     "output_type": "stream",
     "text": [
      "0.7109135946379135\n"
     ]
    }
   ],
   "source": [
    "print(accuracy_score(y_test, rfc_grid_pred))"
   ]
  },
  {
   "cell_type": "markdown",
   "metadata": {},
   "source": [
    "## SVM "
   ]
  },
  {
   "cell_type": "code",
   "execution_count": 305,
   "metadata": {},
   "outputs": [
    {
     "data": {
      "text/plain": [
       "SVC()"
      ]
     },
     "execution_count": 305,
     "metadata": {},
     "output_type": "execute_result"
    }
   ],
   "source": [
    "svm = SVC()\n",
    "svm.fit(X_train, y_train)"
   ]
  },
  {
   "cell_type": "code",
   "execution_count": 306,
   "metadata": {},
   "outputs": [],
   "source": [
    "svm_pred = svm.predict(X_test)"
   ]
  },
  {
   "cell_type": "code",
   "execution_count": 308,
   "metadata": {},
   "outputs": [
    {
     "name": "stdout",
     "output_type": "stream",
     "text": [
      "[[7347    0]\n",
      " [6379    0]]\n"
     ]
    }
   ],
   "source": [
    "print(confusion_matrix(y_test, svm_pred))"
   ]
  },
  {
   "cell_type": "code",
   "execution_count": 309,
   "metadata": {},
   "outputs": [
    {
     "name": "stdout",
     "output_type": "stream",
     "text": [
      "              precision    recall  f1-score   support\n",
      "\n",
      "           0       0.54      1.00      0.70      7347\n",
      "           1       0.00      0.00      0.00      6379\n",
      "\n",
      "    accuracy                           0.54     13726\n",
      "   macro avg       0.27      0.50      0.35     13726\n",
      "weighted avg       0.29      0.54      0.37     13726\n",
      "\n"
     ]
    }
   ],
   "source": [
    "print(classification_report(y_test, svm_pred))"
   ]
  },
  {
   "cell_type": "code",
   "execution_count": 310,
   "metadata": {},
   "outputs": [
    {
     "name": "stdout",
     "output_type": "stream",
     "text": [
      "0.5352615474282384\n"
     ]
    }
   ],
   "source": [
    "print(accuracy_score(y_test, svm_pred))"
   ]
  },
  {
   "cell_type": "code",
   "execution_count": 326,
   "metadata": {},
   "outputs": [
    {
     "data": {
      "text/plain": [
       "dict_keys(['C', 'break_ties', 'cache_size', 'class_weight', 'coef0', 'decision_function_shape', 'degree', 'gamma', 'kernel', 'max_iter', 'probability', 'random_state', 'shrinking', 'tol', 'verbose'])"
      ]
     },
     "execution_count": 326,
     "metadata": {},
     "output_type": "execute_result"
    }
   ],
   "source": [
    "SVC().get_params().keys()"
   ]
  },
  {
   "cell_type": "code",
   "execution_count": null,
   "metadata": {},
   "outputs": [],
   "source": [
    "param_grid = {'C': [10, 1.0, 0.1, 0.01], 'kernel': ['linear', 'poly', 'rbf', 'sigmoid']}\n",
    "svm_grid = GridSearchCV(SVC(), param_grid, refit=True, verbose=3)"
   ]
  },
  {
   "cell_type": "code",
   "execution_count": null,
   "metadata": {},
   "outputs": [],
   "source": [
    "svm_grid.fit(X_train, y_train)"
   ]
  },
  {
   "cell_type": "code",
   "execution_count": null,
   "metadata": {},
   "outputs": [],
   "source": [
    "svm_grid_pred = svm_grid.predict(X_test)"
   ]
  },
  {
   "cell_type": "code",
   "execution_count": null,
   "metadata": {},
   "outputs": [],
   "source": [
    "print(confusion_matrix(y_test, svm_grid_pred))"
   ]
  },
  {
   "cell_type": "code",
   "execution_count": null,
   "metadata": {},
   "outputs": [],
   "source": [
    "print(classification_report(y_test, svm_grid_pred))"
   ]
  },
  {
   "cell_type": "code",
   "execution_count": null,
   "metadata": {},
   "outputs": [],
   "source": [
    "print(accuracy_score(y_test, svm_grid_pred))"
   ]
  },
  {
   "cell_type": "code",
   "execution_count": null,
   "metadata": {},
   "outputs": [],
   "source": []
  }
 ],
 "metadata": {
  "kernelspec": {
   "display_name": "Python 3",
   "language": "python",
   "name": "python3"
  },
  "language_info": {
   "codemirror_mode": {
    "name": "ipython",
    "version": 3
   },
   "file_extension": ".py",
   "mimetype": "text/x-python",
   "name": "python",
   "nbconvert_exporter": "python",
   "pygments_lexer": "ipython3",
   "version": "3.8.5"
  }
 },
 "nbformat": 4,
 "nbformat_minor": 4
}
